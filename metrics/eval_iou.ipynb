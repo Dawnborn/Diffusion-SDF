{
 "cells": [
  {
   "cell_type": "code",
   "execution_count": 1,
   "metadata": {},
   "outputs": [
    {
     "name": "stdout",
     "output_type": "stream",
     "text": [
      "Jupyter environment detected. Enabling Open3D WebVisualizer.\n",
      "[Open3D INFO] WebRTC GUI backend enabled.\n",
      "[Open3D INFO] WebRTCWindowSystem: HTTP handshake server disabled.\n"
     ]
    }
   ],
   "source": [
    "import json\n",
    "import trimesh\n",
    "import numpy as np\n",
    "import os\n",
    "import open3d as o3d\n",
    "\n",
    "import plotly.graph_objs as go\n",
    "\n",
    "from scipy.spatial import ConvexHull\n",
    "\n",
    "import pdb\n",
    "\n",
    "from tqdm import tqdm\n",
    "\n",
    "\n",
    "def load_pcd_vis(pcd_path,pcd_name=None,sub_sample=50000) -> np.ndarray:\n",
    "    _, file_extension = os.path.splitext(pcd_path)\n",
    "    if file_extension == \".pcd\":\n",
    "        pcd = o3d.io.read_point_cloud(pcd_path)\n",
    "        point_clouds_data = np.asarray(pcd.points)\n",
    "    elif file_extension == \".txt\":\n",
    "        point_clouds_data = np.loadtxt(pcd_path)\n",
    "    elif file_extension == \".npy\":\n",
    "        point_clouds_data = np.load(pcd_path)\n",
    "    else:\n",
    "        raise NotImplementedError\n",
    "    \n",
    "    N = point_clouds_data.shape[0]\n",
    "    point_clouds_data = point_clouds_data[np.random.choice(N, sub_sample, replace=True), :]\n",
    "    \n",
    "    x = point_clouds_data[:, 0]\n",
    "    y = point_clouds_data[:, 1]\n",
    "    z = point_clouds_data[:, 2]\n",
    "    trace = go.Scatter3d(x=x, y=y, z=z, \n",
    "            mode='markers',     \n",
    "            marker=dict(\n",
    "                size=0.5,  # Adjust the size of the markers here\n",
    "                color='rgba(35, 35, 250, 0.8)'  # Set the color you want (e.g., light blue)\n",
    "            ),\n",
    "            name=pcd_name)\n",
    "    return trace\n",
    "\n",
    "def quaternion_list2rotmat(quant_list: list, format=\"xyzw\"):\n",
    "    assert len(quant_list) == 4, \"Quaternion needs 4 elements\"\n",
    "    if format==\"xyzw\":\n",
    "        q = np.quaternion(quant_list[0], quant_list[1], quant_list[2], quant_list[3])\n",
    "    elif format==\"wxyz\":\n",
    "        q = np.quaternion(quant_list[1], quant_list[2], quant_list[3], quant_list[0])\n",
    "    R = quaternion.as_rotation_matrix(q)\n",
    "    return R\n",
    "\n",
    "def mesh_apply_rts(mesh, rotation_mat_c2w=np.eye(3), translation_c2w=np.zeros(3), scale_c2w=np.ones(3), mesh_name=None, mesh_color=None):\n",
    "    vertices = np.array(mesh.vertices)\n",
    "    faces = np.array(mesh.faces)\n",
    "    \n",
    "    transformed_vertices = (rotation_mat_c2w @ vertices.T).T - translation_c2w[np.newaxis, :]\n",
    "    transformed_vertices = vertices * scale_c2w\n",
    "    \n",
    "    x, y, z = transformed_vertices.T  # Transposed for easier unpacking\n",
    "    i, j, k = faces.T  # Unpack faces\n",
    "\n",
    "    if mesh_color is None:\n",
    "        mesh_color = \"rgba(244,22,100,0.5)\"\n",
    "\n",
    "    mesh_transformed = go.Mesh3d(\n",
    "        x=x, y=y, z=z,\n",
    "        i=i, j=j, k=k,\n",
    "        opacity=0.5,\n",
    "        color=mesh_color,\n",
    "        name=mesh_name\n",
    "    )\n",
    "    return mesh_transformed\n",
    "\n",
    "def plotly_mesh3d_to_trimesh(plotly_mesh3d):\n",
    "    \"\"\"\n",
    "    将Plotly Mesh3d对象转换为trimesh.Trimesh对象。\n",
    "    \n",
    "    参数:\n",
    "        plotly_mesh3d (plotly.graph_objs.Mesh3d): Plotly Mesh3d对象。\n",
    "        \n",
    "    返回:\n",
    "        trimesh.Trimesh: 转换后的trimesh对象。\n",
    "    \"\"\"\n",
    "    # 从Plotly Mesh3d对象提取顶点坐标\n",
    "    vertices = np.column_stack((plotly_mesh3d.x, plotly_mesh3d.y, plotly_mesh3d.z))\n",
    "    \n",
    "    # 从Plotly Mesh3d对象提取面\n",
    "    faces = np.column_stack((plotly_mesh3d.i, plotly_mesh3d.j, plotly_mesh3d.k))\n",
    "    \n",
    "    # 创建trimesh.Trimesh对象\n",
    "    trimesh_obj = trimesh.Trimesh(vertices=vertices, faces=faces)\n",
    "    \n",
    "    return trimesh_obj\n",
    "\n",
    "def BoundingCubeNormalization(mesh,buffer=1.03):\n",
    "    \"\"\"\n",
    "    transferred from deepsdf preprocessing\n",
    "    input: mesh: trimesh.load\n",
    "    \"\"\"\n",
    "    vertices = np.array(mesh.vertices)\n",
    "    faces = np.array(mesh.faces)\n",
    "\n",
    "    xmax = vertices[:,0].max()\n",
    "    ymax = vertices[:,1].max()\n",
    "    zmax = vertices[:,2].max()\n",
    "\n",
    "    xmin = vertices[:,0].min()\n",
    "    ymin = vertices[:,1].min()\n",
    "    zmin = vertices[:,2].min()\n",
    "\n",
    "    xcenter = (xmax+xmin)/2.0\n",
    "    ycenter = (ymax+ymin)/2.0\n",
    "    zcenter = (zmax+zmin)/2.0\n",
    "\n",
    "    vertices[:,0] -= xcenter\n",
    "    vertices[:,1] -= ycenter \n",
    "    vertices[:,2] -= zcenter\n",
    "\n",
    "    norms = np.linalg.norm(vertices, axis=1)\n",
    "\n",
    "    max_dist = norms.max()\n",
    "    max_dist *= buffer\n",
    "\n",
    "    vertices /= max_dist\n",
    "\n",
    "    x, y, z = vertices.T  # Transposed for easier unpacking\n",
    "    i, j, k = faces.T  # Unpack faces\n",
    "\n",
    "    # if mesh_color is None:\n",
    "    mesh_color = \"rgba(244,22,100,0.5)\"\n",
    "    mesh_name = \"normalized\"\n",
    "\n",
    "    mesh_normalized = go.Mesh3d(\n",
    "        x=x, y=y, z=z,\n",
    "        i=i, j=j, k=k,\n",
    "        opacity=0.5,\n",
    "        color=mesh_color,\n",
    "        name=mesh_name\n",
    "    )\n",
    "    \n",
    "    return mesh_normalized, 1./max_dist, np.array([xcenter,ycenter,zcenter])\n",
    "\n",
    "def mesh_load_go(mesh_path, scale_c2w=None, rotation_quat_wxyz=None, translation_c2w=None,mesh_name=None):\n",
    "    # 从文件加载网格数据\n",
    "    file_suffix = mesh_path.split(\".\")[-1]\n",
    "    if file_suffix == \"obj\":\n",
    "        with open(mesh_path, 'r') as file:\n",
    "            lines = file.readlines()\n",
    "\n",
    "        vertices = []\n",
    "        faces = []\n",
    "\n",
    "        for line in lines:\n",
    "            if line.startswith('v '):\n",
    "                vertex = line.split()[1:]\n",
    "                vertices.append([float(vertex[0]), float(vertex[1]), float(vertex[2])])\n",
    "            elif line.startswith('f '):\n",
    "                face = line.split()[1:]\n",
    "                face_indices = [int(idx.split('/')[0]) - 1 for idx in face]\n",
    "                faces.append(face_indices)\n",
    "\n",
    "        mesh = go.Mesh3d(x=[v[0] for v in vertices], y=[v[1] for v in vertices], z=[v[2] for v in vertices],\n",
    "                        i=[f[0] for f in faces], j=[f[1] for f in faces], k=[f[2] for f in faces], name=mesh_name)\n",
    "        return mesh\n",
    "\n",
    "    elif file_suffix == \"ply\":\n",
    "        from plyfile import PlyData\n",
    "\n",
    "        # 从PLY文件加载网格数据\n",
    "        plydata = PlyData.read(mesh_path)\n",
    "\n",
    "        # 提取顶点坐标\n",
    "        vertices = np.array([list(vertex) for vertex in plydata['vertex'].data])\n",
    "\n",
    "        # 提取面数据\n",
    "        faces = np.array(plydata['face'].data['vertex_indices'])\n",
    "        faces = np.array([list(row) for row in faces])\n",
    "\n",
    "        # 创建网格图形对象\n",
    "        mesh = go.Mesh3d(x=vertices[:, 0], y=vertices[:, 1], z=vertices[:, 2], i=faces[:, 0], j=faces[:, 1], k=faces[:, 2], name=mesh_name)\n",
    "        return mesh\n",
    "def load_mesh(file_path):\n",
    "    # 加载mesh文件\n",
    "    return trimesh.load(file_path, force='mesh')\n",
    "\n",
    "def mesh_to_points(mesh, count=100000):\n",
    "    # 将mesh表面采样为点集\n",
    "    return mesh.sample(count)\n",
    "\n",
    "def compute_convex_hull_volume(points):\n",
    "    # 计算点集的凸包体积\n",
    "    hull = ConvexHull(points)\n",
    "    return hull.volume\n",
    "\n",
    "def compute_iou(mesh1, mesh2, sample_count=100000):\n",
    "    # 将两个mesh表面采样为点集\n",
    "    points1 = mesh_to_points(mesh1, count=sample_count)\n",
    "    points2 = mesh_to_points(mesh2, count=sample_count)\n",
    "    \n",
    "    # 分别计算两个点集的凸包体积\n",
    "    volume1 = compute_convex_hull_volume(points1)\n",
    "    volume2 = compute_convex_hull_volume(points2)\n",
    "    \n",
    "    # 计算两个点集的并集体积\n",
    "    union_points = np.concatenate([points1, points2], axis=0)\n",
    "    union_volume = compute_convex_hull_volume(union_points)\n",
    "    \n",
    "    # 计算交集体积（使用容斥原理）\n",
    "    intersection_volume = volume1 + volume2 - union_volume\n",
    "    \n",
    "    # 计算IoU\n",
    "    iou = intersection_volume / union_volume\n",
    "    return iou\n",
    "\n",
    "# from evaluation_metrics import load_mesh, mesh_to_points, compute_convex_hull_volume, compute_iou\n",
    "\n",
    "label2id = {\n",
    "        \"sofa\": \"04256520\",\n",
    "        # \"table\": \"04379243\",\n",
    "        # \"bed\": \"02818832\",\n",
    "        # \"bathtub\": \"02808440\",\n",
    "        # \"chair\": \"03001627\",\n",
    "        # \"cabinet\": \"02933112\",\n",
    "        # 'plane':'02691156',\n",
    "        # 'bottle':'02876657',\n",
    "    }\n"
   ]
  },
  {
   "cell_type": "code",
   "execution_count": 4,
   "metadata": {},
   "outputs": [
    {
     "name": "stderr",
     "output_type": "stream",
     "text": [
      "0it [00:00, ?it/s]"
     ]
    },
    {
     "name": "stdout",
     "output_type": "stream",
     "text": [
      "/storage/user/huju/transferred/ws_dditnach/Diffusion-SDF/config/ddit_stage2_diff_cond/recon/23999/Meshes/2ee577ae974272dc9faa444e7f5fd692_scene0244_01_ins_3.ply.ply\n",
      "/storage/user/huju/transferred/ws_dditnach/DATA/ScanARCW/canonical_mesh_manifoldplus/04256520/2ee577ae974272dc9faa444e7f5fd692_scene0244_01_ins_3/model_canonical_manifoldplus.obj\n"
     ]
    },
    {
     "name": "stderr",
     "output_type": "stream",
     "text": [
      "7it [00:00, 13.51it/s]"
     ]
    },
    {
     "name": "stdout",
     "output_type": "stream",
     "text": [
      "IoU: 0.7151529420656857\n",
      "/storage/user/huju/transferred/ws_dditnach/Diffusion-SDF/config/ddit_stage2_diff_cond/recon/23999/Meshes/f98615e51a596fc5c05575120a46cd3b_scene0394_00_ins_8.ply.ply\n",
      "/storage/user/huju/transferred/ws_dditnach/DATA/ScanARCW/canonical_mesh_manifoldplus/04256520/f98615e51a596fc5c05575120a46cd3b_scene0394_00_ins_8/model_canonical_manifoldplus.obj\n",
      "IoU: 0.7237128522579209\n",
      "/storage/user/huju/transferred/ws_dditnach/Diffusion-SDF/config/ddit_stage2_diff_cond/recon/23999/Meshes/ef479941cb60405f8cbd400aa99bee96_scene0549_00_ins_8.ply.ply\n",
      "/storage/user/huju/transferred/ws_dditnach/DATA/ScanARCW/canonical_mesh_manifoldplus/04256520/ef479941cb60405f8cbd400aa99bee96_scene0549_00_ins_8/model_canonical_manifoldplus.obj\n"
     ]
    },
    {
     "name": "stderr",
     "output_type": "stream",
     "text": [
      "9it [00:02,  3.58it/s]"
     ]
    },
    {
     "name": "stdout",
     "output_type": "stream",
     "text": [
      "IoU: 0.8089023386185475\n",
      "/storage/user/huju/transferred/ws_dditnach/Diffusion-SDF/config/ddit_stage2_diff_cond/recon/23999/Meshes/fcdc852692f43041fdac1e69603928f_scene0503_00_ins_2.ply.ply\n",
      "/storage/user/huju/transferred/ws_dditnach/DATA/ScanARCW/canonical_mesh_manifoldplus/04256520/fcdc852692f43041fdac1e69603928f_scene0503_00_ins_2/model_canonical_manifoldplus.obj\n"
     ]
    },
    {
     "name": "stderr",
     "output_type": "stream",
     "text": [
      "10it [00:02,  2.62it/s]"
     ]
    },
    {
     "name": "stdout",
     "output_type": "stream",
     "text": [
      "IoU: 0.7712465715510033\n",
      "/storage/user/huju/transferred/ws_dditnach/Diffusion-SDF/config/ddit_stage2_diff_cond/recon/23999/Meshes/f551048075b5042d7d6d37ceb4807b31_scene0001_00_ins_8.ply.ply\n",
      "/storage/user/huju/transferred/ws_dditnach/DATA/ScanARCW/canonical_mesh_manifoldplus/04256520/f551048075b5042d7d6d37ceb4807b31_scene0001_00_ins_8/model_canonical_manifoldplus.obj\n"
     ]
    },
    {
     "name": "stderr",
     "output_type": "stream",
     "text": [
      "11it [00:03,  1.98it/s]"
     ]
    },
    {
     "name": "stdout",
     "output_type": "stream",
     "text": [
      "IoU: 0.8374368152333473\n",
      "/storage/user/huju/transferred/ws_dditnach/Diffusion-SDF/config/ddit_stage2_diff_cond/recon/23999/Meshes/c1b8d982d97e337f19fb4103277a6b93_scene0588_02_ins_22.ply.ply\n",
      "/storage/user/huju/transferred/ws_dditnach/DATA/ScanARCW/canonical_mesh_manifoldplus/04256520/c1b8d982d97e337f19fb4103277a6b93_scene0588_02_ins_22/model_canonical_manifoldplus.obj\n"
     ]
    },
    {
     "name": "stderr",
     "output_type": "stream",
     "text": [
      "12it [00:05,  1.58it/s]"
     ]
    },
    {
     "name": "stdout",
     "output_type": "stream",
     "text": [
      "IoU: 0.8871269316075475\n",
      "/storage/user/huju/transferred/ws_dditnach/Diffusion-SDF/config/ddit_stage2_diff_cond/recon/23999/Meshes/3746c2c38faaec395304a08899f58b0b_scene0087_00_ins_6.ply.ply\n",
      "/storage/user/huju/transferred/ws_dditnach/DATA/ScanARCW/canonical_mesh_manifoldplus/04256520/3746c2c38faaec395304a08899f58b0b_scene0087_00_ins_6/model_canonical_manifoldplus.obj\n"
     ]
    },
    {
     "name": "stderr",
     "output_type": "stream",
     "text": [
      "13it [00:06,  1.36it/s]"
     ]
    },
    {
     "name": "stdout",
     "output_type": "stream",
     "text": [
      "IoU: 0.7492341791857181\n",
      "/storage/user/huju/transferred/ws_dditnach/Diffusion-SDF/config/ddit_stage2_diff_cond/recon/23999/Meshes/6d25000aa000a97919fb4103277a6b93_scene0367_00_ins_3.ply.ply\n",
      "/storage/user/huju/transferred/ws_dditnach/DATA/ScanARCW/canonical_mesh_manifoldplus/04256520/6d25000aa000a97919fb4103277a6b93_scene0367_00_ins_3/model_canonical_manifoldplus.obj\n"
     ]
    },
    {
     "name": "stderr",
     "output_type": "stream",
     "text": [
      "14it [00:08,  1.04s/it]"
     ]
    },
    {
     "name": "stdout",
     "output_type": "stream",
     "text": [
      "IoU: 0.6458795380349804\n",
      "/storage/user/huju/transferred/ws_dditnach/Diffusion-SDF/config/ddit_stage2_diff_cond/recon/23999/Meshes/3a98a93f381ff5fb4b3c42e318f3affc_scene0012_00_ins_1.ply.ply\n",
      "/storage/user/huju/transferred/ws_dditnach/DATA/ScanARCW/canonical_mesh_manifoldplus/04256520/3a98a93f381ff5fb4b3c42e318f3affc_scene0012_00_ins_1/model_canonical_manifoldplus.obj\n"
     ]
    },
    {
     "name": "stderr",
     "output_type": "stream",
     "text": [
      "15it [00:11,  1.58s/it]"
     ]
    },
    {
     "name": "stdout",
     "output_type": "stream",
     "text": [
      "IoU: 0.5993588828035967\n",
      "/storage/user/huju/transferred/ws_dditnach/Diffusion-SDF/config/ddit_stage2_diff_cond/recon/23999/Meshes/7c9e1876b1643e93f9377e1922a21892_scene0329_01_ins_4.ply.ply\n",
      "/storage/user/huju/transferred/ws_dditnach/DATA/ScanARCW/canonical_mesh_manifoldplus/04256520/7c9e1876b1643e93f9377e1922a21892_scene0329_01_ins_4/model_canonical_manifoldplus.obj\n"
     ]
    },
    {
     "name": "stderr",
     "output_type": "stream",
     "text": [
      "16it [00:12,  1.43s/it]"
     ]
    },
    {
     "name": "stdout",
     "output_type": "stream",
     "text": [
      "IoU: 0.7669860427236111\n",
      "/storage/user/huju/transferred/ws_dditnach/Diffusion-SDF/config/ddit_stage2_diff_cond/recon/23999/Meshes/cceaeed0d8cf5bdbca68d7e2f215cb19_scene0568_01_ins_6.ply.ply\n",
      "/storage/user/huju/transferred/ws_dditnach/DATA/ScanARCW/canonical_mesh_manifoldplus/04256520/cceaeed0d8cf5bdbca68d7e2f215cb19_scene0568_01_ins_6/model_canonical_manifoldplus.obj\n"
     ]
    },
    {
     "name": "stderr",
     "output_type": "stream",
     "text": [
      "17it [00:13,  1.36s/it]"
     ]
    },
    {
     "name": "stdout",
     "output_type": "stream",
     "text": [
      "IoU: 0.40163797879666135\n",
      "/storage/user/huju/transferred/ws_dditnach/Diffusion-SDF/config/ddit_stage2_diff_cond/recon/23999/Meshes/2fa5cce72c52f5ea95696f73b672b1e8_scene0002_00_ins_12.ply.ply\n",
      "/storage/user/huju/transferred/ws_dditnach/DATA/ScanARCW/canonical_mesh_manifoldplus/04256520/2fa5cce72c52f5ea95696f73b672b1e8_scene0002_00_ins_12/model_canonical_manifoldplus.obj\n"
     ]
    },
    {
     "name": "stderr",
     "output_type": "stream",
     "text": [
      "18it [00:14,  1.29s/it]"
     ]
    },
    {
     "name": "stdout",
     "output_type": "stream",
     "text": [
      "IoU: 0.5866612284107839\n",
      "/storage/user/huju/transferred/ws_dditnach/Diffusion-SDF/config/ddit_stage2_diff_cond/recon/23999/Meshes/f551048075b5042d7d6d37ceb4807b31_scene0111_01_ins_13.ply.ply\n",
      "/storage/user/huju/transferred/ws_dditnach/DATA/ScanARCW/canonical_mesh_manifoldplus/04256520/f551048075b5042d7d6d37ceb4807b31_scene0111_01_ins_13/model_canonical_manifoldplus.obj\n"
     ]
    },
    {
     "name": "stderr",
     "output_type": "stream",
     "text": [
      "19it [00:15,  1.16s/it]"
     ]
    },
    {
     "name": "stdout",
     "output_type": "stream",
     "text": [
      "IoU: 0.7889608322175761\n",
      "/storage/user/huju/transferred/ws_dditnach/Diffusion-SDF/config/ddit_stage2_diff_cond/recon/23999/Meshes/61f828a545649e98f1d7342136779c0_scene0281_00_ins_1.ply.ply\n",
      "/storage/user/huju/transferred/ws_dditnach/DATA/ScanARCW/canonical_mesh_manifoldplus/04256520/61f828a545649e98f1d7342136779c0_scene0281_00_ins_1/model_canonical_manifoldplus.obj\n"
     ]
    },
    {
     "name": "stderr",
     "output_type": "stream",
     "text": [
      "20it [00:16,  1.10s/it]"
     ]
    },
    {
     "name": "stdout",
     "output_type": "stream",
     "text": [
      "IoU: 0.566096924491149\n",
      "/storage/user/huju/transferred/ws_dditnach/Diffusion-SDF/config/ddit_stage2_diff_cond/recon/23999/Meshes/d58a2c86b9b71f6bef4e42d70375aed8_scene0151_00_ins_3.ply.ply\n",
      "/storage/user/huju/transferred/ws_dditnach/DATA/ScanARCW/canonical_mesh_manifoldplus/04256520/d58a2c86b9b71f6bef4e42d70375aed8_scene0151_00_ins_3/model_canonical_manifoldplus.obj\n"
     ]
    },
    {
     "name": "stderr",
     "output_type": "stream",
     "text": [
      "21it [00:17,  1.14s/it]"
     ]
    },
    {
     "name": "stdout",
     "output_type": "stream",
     "text": [
      "IoU: 0.7492442776567207\n",
      "/storage/user/huju/transferred/ws_dditnach/Diffusion-SDF/config/ddit_stage2_diff_cond/recon/23999/Meshes/be5def882071141c1a8781c24b79ae57_scene0520_00_ins_6.ply.ply\n",
      "/storage/user/huju/transferred/ws_dditnach/DATA/ScanARCW/canonical_mesh_manifoldplus/04256520/be5def882071141c1a8781c24b79ae57_scene0520_00_ins_6/model_canonical_manifoldplus.obj\n"
     ]
    },
    {
     "name": "stderr",
     "output_type": "stream",
     "text": [
      "22it [00:18,  1.04s/it]"
     ]
    },
    {
     "name": "stdout",
     "output_type": "stream",
     "text": [
      "IoU: 0.6979267885699856\n",
      "/storage/user/huju/transferred/ws_dditnach/Diffusion-SDF/config/ddit_stage2_diff_cond/recon/23999/Meshes/25220d902288e352632c9ddc45ef4651_scene0514_00_ins_2.ply.ply\n",
      "/storage/user/huju/transferred/ws_dditnach/DATA/ScanARCW/canonical_mesh_manifoldplus/04256520/25220d902288e352632c9ddc45ef4651_scene0514_00_ins_2/model_canonical_manifoldplus.obj\n"
     ]
    },
    {
     "name": "stderr",
     "output_type": "stream",
     "text": [
      "23it [00:19,  1.00it/s]"
     ]
    },
    {
     "name": "stdout",
     "output_type": "stream",
     "text": [
      "IoU: 0.939484679299872\n",
      "/storage/user/huju/transferred/ws_dditnach/Diffusion-SDF/config/ddit_stage2_diff_cond/recon/23999/Meshes/b48603e4595bb61ab6f5fb02f36f9480_scene0279_01_ins_9.ply.ply\n",
      "/storage/user/huju/transferred/ws_dditnach/DATA/ScanARCW/canonical_mesh_manifoldplus/04256520/b48603e4595bb61ab6f5fb02f36f9480_scene0279_01_ins_9/model_canonical_manifoldplus.obj\n"
     ]
    },
    {
     "name": "stderr",
     "output_type": "stream",
     "text": [
      "24it [00:20,  1.21s/it]"
     ]
    },
    {
     "name": "stdout",
     "output_type": "stream",
     "text": [
      "IoU: 0.4122551948621791\n",
      "/storage/user/huju/transferred/ws_dditnach/Diffusion-SDF/config/ddit_stage2_diff_cond/recon/23999/Meshes/c81cf82daa56a165271513b292108db_scene0055_00_ins_1.ply.ply\n",
      "/storage/user/huju/transferred/ws_dditnach/DATA/ScanARCW/canonical_mesh_manifoldplus/04256520/c81cf82daa56a165271513b292108db_scene0055_00_ins_1/model_canonical_manifoldplus.obj\n"
     ]
    },
    {
     "name": "stderr",
     "output_type": "stream",
     "text": [
      "25it [00:22,  1.33s/it]"
     ]
    },
    {
     "name": "stdout",
     "output_type": "stream",
     "text": [
      "IoU: 0.1087482506315526\n",
      "/storage/user/huju/transferred/ws_dditnach/Diffusion-SDF/config/ddit_stage2_diff_cond/recon/23999/Meshes/679010d35da8193219fb4103277a6b93_scene0053_00_ins_1.ply.ply\n",
      "/storage/user/huju/transferred/ws_dditnach/DATA/ScanARCW/canonical_mesh_manifoldplus/04256520/679010d35da8193219fb4103277a6b93_scene0053_00_ins_1/model_canonical_manifoldplus.obj\n"
     ]
    },
    {
     "name": "stderr",
     "output_type": "stream",
     "text": [
      "26it [00:23,  1.30s/it]"
     ]
    },
    {
     "name": "stdout",
     "output_type": "stream",
     "text": [
      "IoU: 0.9376083100525788\n",
      "/storage/user/huju/transferred/ws_dditnach/Diffusion-SDF/config/ddit_stage2_diff_cond/recon/23999/Meshes/118a7d6a1dfbbc14300703f05f8ccc25_scene0641_00_ins_4.ply.ply\n",
      "/storage/user/huju/transferred/ws_dditnach/DATA/ScanARCW/canonical_mesh_manifoldplus/04256520/118a7d6a1dfbbc14300703f05f8ccc25_scene0641_00_ins_4/model_canonical_manifoldplus.obj\n"
     ]
    },
    {
     "name": "stderr",
     "output_type": "stream",
     "text": [
      "27it [00:24,  1.26s/it]"
     ]
    },
    {
     "name": "stdout",
     "output_type": "stream",
     "text": [
      "IoU: 0.8773600369854984\n",
      "/storage/user/huju/transferred/ws_dditnach/Diffusion-SDF/config/ddit_stage2_diff_cond/recon/23999/Meshes/679010d35da8193219fb4103277a6b93_scene0297_01_ins_5.ply.ply\n",
      "/storage/user/huju/transferred/ws_dditnach/DATA/ScanARCW/canonical_mesh_manifoldplus/04256520/679010d35da8193219fb4103277a6b93_scene0297_01_ins_5/model_canonical_manifoldplus.obj\n"
     ]
    },
    {
     "name": "stderr",
     "output_type": "stream",
     "text": [
      "28it [00:26,  1.42s/it]"
     ]
    },
    {
     "name": "stdout",
     "output_type": "stream",
     "text": [
      "IoU: 0.23139993739953718\n",
      "/storage/user/huju/transferred/ws_dditnach/Diffusion-SDF/config/ddit_stage2_diff_cond/recon/23999/Meshes/a17c259d1af349dd45c21ae2e309d69f_scene0027_01_ins_2.ply.ply\n",
      "/storage/user/huju/transferred/ws_dditnach/DATA/ScanARCW/canonical_mesh_manifoldplus/04256520/a17c259d1af349dd45c21ae2e309d69f_scene0027_01_ins_2/model_canonical_manifoldplus.obj\n"
     ]
    },
    {
     "name": "stderr",
     "output_type": "stream",
     "text": [
      "29it [00:27,  1.21s/it]"
     ]
    },
    {
     "name": "stdout",
     "output_type": "stream",
     "text": [
      "IoU: 0.3733592742407135\n",
      "/storage/user/huju/transferred/ws_dditnach/Diffusion-SDF/config/ddit_stage2_diff_cond/recon/23999/Meshes/7ae657b39aa2be68ccd1bcd57588acf8_scene0362_01_ins_3.ply.ply\n",
      "/storage/user/huju/transferred/ws_dditnach/DATA/ScanARCW/canonical_mesh_manifoldplus/04256520/7ae657b39aa2be68ccd1bcd57588acf8_scene0362_01_ins_3/model_canonical_manifoldplus.obj\n"
     ]
    },
    {
     "name": "stderr",
     "output_type": "stream",
     "text": [
      "30it [00:28,  1.11s/it]"
     ]
    },
    {
     "name": "stdout",
     "output_type": "stream",
     "text": [
      "IoU: 0.9645997984185306\n",
      "/storage/user/huju/transferred/ws_dditnach/Diffusion-SDF/config/ddit_stage2_diff_cond/recon/23999/Meshes/be5def882071141c1a8781c24b79ae57_scene0520_00_ins_5.ply.ply\n",
      "/storage/user/huju/transferred/ws_dditnach/DATA/ScanARCW/canonical_mesh_manifoldplus/04256520/be5def882071141c1a8781c24b79ae57_scene0520_00_ins_5/model_canonical_manifoldplus.obj\n"
     ]
    },
    {
     "name": "stderr",
     "output_type": "stream",
     "text": [
      "31it [00:29,  1.03s/it]"
     ]
    },
    {
     "name": "stdout",
     "output_type": "stream",
     "text": [
      "IoU: 0.8118238477265299\n",
      "/storage/user/huju/transferred/ws_dditnach/Diffusion-SDF/config/ddit_stage2_diff_cond/recon/23999/Meshes/a92f6b7dccd0421f7248d9dbed7a7b8_scene0059_02_ins_3.ply.ply\n",
      "/storage/user/huju/transferred/ws_dditnach/DATA/ScanARCW/canonical_mesh_manifoldplus/04256520/a92f6b7dccd0421f7248d9dbed7a7b8_scene0059_02_ins_3/model_canonical_manifoldplus.obj\n"
     ]
    },
    {
     "name": "stderr",
     "output_type": "stream",
     "text": [
      "32it [00:29,  1.02it/s]"
     ]
    },
    {
     "name": "stdout",
     "output_type": "stream",
     "text": [
      "IoU: 0.9361833418672707\n",
      "/storage/user/huju/transferred/ws_dditnach/Diffusion-SDF/config/ddit_stage2_diff_cond/recon/23999/Meshes/bda4b8e6a69e1fc63f07ca1042ba5dfc_scene0327_00_ins_5.ply.ply\n",
      "/storage/user/huju/transferred/ws_dditnach/DATA/ScanARCW/canonical_mesh_manifoldplus/04256520/bda4b8e6a69e1fc63f07ca1042ba5dfc_scene0327_00_ins_5/model_canonical_manifoldplus.obj\n"
     ]
    },
    {
     "name": "stderr",
     "output_type": "stream",
     "text": [
      "33it [00:30,  1.07it/s]"
     ]
    },
    {
     "name": "stdout",
     "output_type": "stream",
     "text": [
      "IoU: 0.6669194102522307\n",
      "/storage/user/huju/transferred/ws_dditnach/Diffusion-SDF/config/ddit_stage2_diff_cond/recon/23999/Meshes/27c82d27a4d38e6f41b160b9adc112fd_scene0192_01_ins_4.ply.ply\n",
      "/storage/user/huju/transferred/ws_dditnach/DATA/ScanARCW/canonical_mesh_manifoldplus/04256520/27c82d27a4d38e6f41b160b9adc112fd_scene0192_01_ins_4/model_canonical_manifoldplus.obj\n"
     ]
    },
    {
     "name": "stderr",
     "output_type": "stream",
     "text": [
      "34it [00:34,  1.67s/it]"
     ]
    },
    {
     "name": "stdout",
     "output_type": "stream",
     "text": [
      "IoU: 0.3603563840375407\n",
      "/storage/user/huju/transferred/ws_dditnach/Diffusion-SDF/config/ddit_stage2_diff_cond/recon/23999/Meshes/389751629226a005cbde89e0c48a01bf_scene0362_03_ins_9.ply.ply\n",
      "/storage/user/huju/transferred/ws_dditnach/DATA/ScanARCW/canonical_mesh_manifoldplus/04256520/389751629226a005cbde89e0c48a01bf_scene0362_03_ins_9/model_canonical_manifoldplus.obj\n"
     ]
    },
    {
     "name": "stderr",
     "output_type": "stream",
     "text": [
      "35it [00:35,  1.49s/it]"
     ]
    },
    {
     "name": "stdout",
     "output_type": "stream",
     "text": [
      "IoU: 0.7231896075434311\n",
      "/storage/user/huju/transferred/ws_dditnach/Diffusion-SDF/config/ddit_stage2_diff_cond/recon/23999/Meshes/2de1b39fe6dd601f1e03b4418ed1a4f3_scene0312_00_ins_2.ply.ply\n",
      "/storage/user/huju/transferred/ws_dditnach/DATA/ScanARCW/canonical_mesh_manifoldplus/04256520/2de1b39fe6dd601f1e03b4418ed1a4f3_scene0312_00_ins_2/model_canonical_manifoldplus.obj\n"
     ]
    },
    {
     "name": "stderr",
     "output_type": "stream",
     "text": [
      "36it [00:35,  1.26s/it]"
     ]
    },
    {
     "name": "stdout",
     "output_type": "stream",
     "text": [
      "IoU: 0.923085107772126\n",
      "/storage/user/huju/transferred/ws_dditnach/Diffusion-SDF/config/ddit_stage2_diff_cond/recon/23999/Meshes/cd10e95d1501ed6719fb4103277a6b93_scene0520_00_ins_3.ply.ply\n",
      "/storage/user/huju/transferred/ws_dditnach/DATA/ScanARCW/canonical_mesh_manifoldplus/04256520/cd10e95d1501ed6719fb4103277a6b93_scene0520_00_ins_3/model_canonical_manifoldplus.obj\n"
     ]
    },
    {
     "name": "stderr",
     "output_type": "stream",
     "text": [
      "37it [00:38,  1.68s/it]"
     ]
    },
    {
     "name": "stdout",
     "output_type": "stream",
     "text": [
      "IoU: 0.7564244224983625\n",
      "/storage/user/huju/transferred/ws_dditnach/Diffusion-SDF/config/ddit_stage2_diff_cond/recon/23999/Meshes/fee8e1e0161f69b0db039d8689a74349_scene0474_01_ins_13.ply.ply\n",
      "/storage/user/huju/transferred/ws_dditnach/DATA/ScanARCW/canonical_mesh_manifoldplus/04256520/fee8e1e0161f69b0db039d8689a74349_scene0474_01_ins_13/model_canonical_manifoldplus.obj\n"
     ]
    },
    {
     "name": "stderr",
     "output_type": "stream",
     "text": [
      "38it [00:39,  1.53s/it]"
     ]
    },
    {
     "name": "stdout",
     "output_type": "stream",
     "text": [
      "IoU: 0.5748241865818106\n",
      "/storage/user/huju/transferred/ws_dditnach/Diffusion-SDF/config/ddit_stage2_diff_cond/recon/23999/Meshes/c1b8d982d97e337f19fb4103277a6b93_scene0588_02_ins_24.ply.ply\n",
      "/storage/user/huju/transferred/ws_dditnach/DATA/ScanARCW/canonical_mesh_manifoldplus/04256520/c1b8d982d97e337f19fb4103277a6b93_scene0588_02_ins_24/model_canonical_manifoldplus.obj\n"
     ]
    },
    {
     "name": "stderr",
     "output_type": "stream",
     "text": [
      "39it [00:41,  1.43s/it]"
     ]
    },
    {
     "name": "stdout",
     "output_type": "stream",
     "text": [
      "IoU: 0.8193401025186082\n",
      "/storage/user/huju/transferred/ws_dditnach/Diffusion-SDF/config/ddit_stage2_diff_cond/recon/23999/Meshes/c856e6b37c9e12ab8a3de2846876a3c7_scene0269_00_ins_2.ply.ply\n",
      "/storage/user/huju/transferred/ws_dditnach/DATA/ScanARCW/canonical_mesh_manifoldplus/04256520/c856e6b37c9e12ab8a3de2846876a3c7_scene0269_00_ins_2/model_canonical_manifoldplus.obj\n"
     ]
    },
    {
     "name": "stderr",
     "output_type": "stream",
     "text": [
      "40it [00:41,  1.22s/it]"
     ]
    },
    {
     "name": "stdout",
     "output_type": "stream",
     "text": [
      "IoU: 0.853414732074633\n",
      "/storage/user/huju/transferred/ws_dditnach/Diffusion-SDF/config/ddit_stage2_diff_cond/recon/23999/Meshes/3746c2c38faaec395304a08899f58b0b_scene0312_01_ins_9.ply.ply\n",
      "/storage/user/huju/transferred/ws_dditnach/DATA/ScanARCW/canonical_mesh_manifoldplus/04256520/3746c2c38faaec395304a08899f58b0b_scene0312_01_ins_9/model_canonical_manifoldplus.obj\n"
     ]
    },
    {
     "name": "stderr",
     "output_type": "stream",
     "text": [
      "41it [00:42,  1.15s/it]"
     ]
    },
    {
     "name": "stdout",
     "output_type": "stream",
     "text": [
      "IoU: 0.4356999291286522\n",
      "/storage/user/huju/transferred/ws_dditnach/Diffusion-SDF/config/ddit_stage2_diff_cond/recon/23999/Meshes/e877f5881c54551a2665f68ebc337f05_scene0547_01_ins_1.ply.ply\n",
      "/storage/user/huju/transferred/ws_dditnach/DATA/ScanARCW/canonical_mesh_manifoldplus/04256520/e877f5881c54551a2665f68ebc337f05_scene0547_01_ins_1/model_canonical_manifoldplus.obj\n"
     ]
    },
    {
     "name": "stderr",
     "output_type": "stream",
     "text": [
      "42it [00:43,  1.09s/it]"
     ]
    },
    {
     "name": "stdout",
     "output_type": "stream",
     "text": [
      "IoU: 0.6984948880279778\n",
      "/storage/user/huju/transferred/ws_dditnach/Diffusion-SDF/config/ddit_stage2_diff_cond/recon/23999/Meshes/377fceb1500e6452d9651cd1d591d64d_scene0141_01_ins_13.ply.ply\n",
      "/storage/user/huju/transferred/ws_dditnach/DATA/ScanARCW/canonical_mesh_manifoldplus/04256520/377fceb1500e6452d9651cd1d591d64d_scene0141_01_ins_13/model_canonical_manifoldplus.obj\n"
     ]
    },
    {
     "name": "stderr",
     "output_type": "stream",
     "text": [
      "43it [00:44,  1.01s/it]"
     ]
    },
    {
     "name": "stdout",
     "output_type": "stream",
     "text": [
      "IoU: 0.6734794744884824\n",
      "/storage/user/huju/transferred/ws_dditnach/Diffusion-SDF/config/ddit_stage2_diff_cond/recon/23999/Meshes/ba6c0baa0a122f8ce2aa36c9e5ae7ae_scene0587_02_ins_5.ply.ply\n",
      "/storage/user/huju/transferred/ws_dditnach/DATA/ScanARCW/canonical_mesh_manifoldplus/04256520/ba6c0baa0a122f8ce2aa36c9e5ae7ae_scene0587_02_ins_5/model_canonical_manifoldplus.obj\n"
     ]
    },
    {
     "name": "stderr",
     "output_type": "stream",
     "text": [
      "44it [00:45,  1.01it/s]"
     ]
    },
    {
     "name": "stdout",
     "output_type": "stream",
     "text": [
      "IoU: 0.8989338457456667\n",
      "/storage/user/huju/transferred/ws_dditnach/Diffusion-SDF/config/ddit_stage2_diff_cond/recon/23999/Meshes/c81cf82daa56a165271513b292108db_scene0556_00_ins_11.ply.ply\n",
      "/storage/user/huju/transferred/ws_dditnach/DATA/ScanARCW/canonical_mesh_manifoldplus/04256520/c81cf82daa56a165271513b292108db_scene0556_00_ins_11/model_canonical_manifoldplus.obj\n"
     ]
    },
    {
     "name": "stderr",
     "output_type": "stream",
     "text": [
      "45it [00:46,  1.06s/it]"
     ]
    },
    {
     "name": "stdout",
     "output_type": "stream",
     "text": [
      "IoU: 0.7966800543158903\n",
      "/storage/user/huju/transferred/ws_dditnach/Diffusion-SDF/config/ddit_stage2_diff_cond/recon/23999/Meshes/9be24460d1f7d084b3c42e318f3affc_scene0053_00_ins_2.ply.ply\n",
      "/storage/user/huju/transferred/ws_dditnach/DATA/ScanARCW/canonical_mesh_manifoldplus/04256520/9be24460d1f7d084b3c42e318f3affc_scene0053_00_ins_2/model_canonical_manifoldplus.obj\n"
     ]
    },
    {
     "name": "stderr",
     "output_type": "stream",
     "text": [
      "46it [00:47,  1.02s/it]"
     ]
    },
    {
     "name": "stdout",
     "output_type": "stream",
     "text": [
      "IoU: 0.7789884608487138\n",
      "/storage/user/huju/transferred/ws_dditnach/Diffusion-SDF/config/ddit_stage2_diff_cond/recon/23999/Meshes/330d44833e1b4b168b38796afe7ee552_scene0087_01_ins_6.ply.ply\n",
      "/storage/user/huju/transferred/ws_dditnach/DATA/ScanARCW/canonical_mesh_manifoldplus/04256520/330d44833e1b4b168b38796afe7ee552_scene0087_01_ins_6/model_canonical_manifoldplus.obj\n"
     ]
    },
    {
     "name": "stderr",
     "output_type": "stream",
     "text": [
      "47it [00:48,  1.05it/s]"
     ]
    },
    {
     "name": "stdout",
     "output_type": "stream",
     "text": [
      "IoU: 0.9453065621487518\n",
      "/storage/user/huju/transferred/ws_dditnach/Diffusion-SDF/config/ddit_stage2_diff_cond/recon/23999/Meshes/fb74336a6192c4787afee304cce81d6f_scene0312_02_ins_9.ply.ply\n",
      "/storage/user/huju/transferred/ws_dditnach/DATA/ScanARCW/canonical_mesh_manifoldplus/04256520/fb74336a6192c4787afee304cce81d6f_scene0312_02_ins_9/model_canonical_manifoldplus.obj\n"
     ]
    },
    {
     "name": "stderr",
     "output_type": "stream",
     "text": [
      "48it [00:49,  1.03s/it]"
     ]
    },
    {
     "name": "stdout",
     "output_type": "stream",
     "text": [
      "IoU: 0.7041410442815\n",
      "/storage/user/huju/transferred/ws_dditnach/Diffusion-SDF/config/ddit_stage2_diff_cond/recon/23999/Meshes/945a038c3e0c46ec19fb4103277a6b93_scene0559_00_ins_4.ply.ply\n",
      "/storage/user/huju/transferred/ws_dditnach/DATA/ScanARCW/canonical_mesh_manifoldplus/04256520/945a038c3e0c46ec19fb4103277a6b93_scene0559_00_ins_4/model_canonical_manifoldplus.obj\n"
     ]
    },
    {
     "name": "stderr",
     "output_type": "stream",
     "text": [
      "49it [00:50,  1.04s/it]"
     ]
    },
    {
     "name": "stdout",
     "output_type": "stream",
     "text": [
      "IoU: 0.9445011536554558\n",
      "/storage/user/huju/transferred/ws_dditnach/Diffusion-SDF/config/ddit_stage2_diff_cond/recon/23999/Meshes/d562328792a3314519fb4103277a6b93_scene0668_00_ins_2.ply.ply\n",
      "/storage/user/huju/transferred/ws_dditnach/DATA/ScanARCW/canonical_mesh_manifoldplus/04256520/d562328792a3314519fb4103277a6b93_scene0668_00_ins_2/model_canonical_manifoldplus.obj\n"
     ]
    },
    {
     "name": "stderr",
     "output_type": "stream",
     "text": [
      "50it [00:51,  1.09s/it]"
     ]
    },
    {
     "name": "stdout",
     "output_type": "stream",
     "text": [
      "IoU: 0.17404355389719373\n",
      "/storage/user/huju/transferred/ws_dditnach/Diffusion-SDF/config/ddit_stage2_diff_cond/recon/23999/Meshes/3d498fd733de605a929a5204e472930b_scene0588_00_ins_1.ply.ply\n",
      "/storage/user/huju/transferred/ws_dditnach/DATA/ScanARCW/canonical_mesh_manifoldplus/04256520/3d498fd733de605a929a5204e472930b_scene0588_00_ins_1/model_canonical_manifoldplus.obj\n"
     ]
    },
    {
     "name": "stderr",
     "output_type": "stream",
     "text": [
      "51it [00:52,  1.02s/it]"
     ]
    },
    {
     "name": "stdout",
     "output_type": "stream",
     "text": [
      "IoU: 0.6447889549467328\n",
      "/storage/user/huju/transferred/ws_dditnach/Diffusion-SDF/config/ddit_stage2_diff_cond/recon/23999/Meshes/2abe8d5b5d29ff52f7628281ecb18112_scene0588_02_ins_20.ply.ply\n",
      "/storage/user/huju/transferred/ws_dditnach/DATA/ScanARCW/canonical_mesh_manifoldplus/04256520/2abe8d5b5d29ff52f7628281ecb18112_scene0588_02_ins_20/model_canonical_manifoldplus.obj\n"
     ]
    },
    {
     "name": "stderr",
     "output_type": "stream",
     "text": [
      "52it [00:54,  1.28s/it]"
     ]
    },
    {
     "name": "stdout",
     "output_type": "stream",
     "text": [
      "IoU: 0.7559990643118447\n",
      "/storage/user/huju/transferred/ws_dditnach/Diffusion-SDF/config/ddit_stage2_diff_cond/recon/23999/Meshes/556166f38429cdfe29bdd38dd4a1a461_scene0050_00_ins_2.ply.ply\n",
      "/storage/user/huju/transferred/ws_dditnach/DATA/ScanARCW/canonical_mesh_manifoldplus/04256520/556166f38429cdfe29bdd38dd4a1a461_scene0050_00_ins_2/model_canonical_manifoldplus.obj\n"
     ]
    },
    {
     "name": "stderr",
     "output_type": "stream",
     "text": [
      "53it [00:55,  1.22s/it]"
     ]
    },
    {
     "name": "stdout",
     "output_type": "stream",
     "text": [
      "IoU: 0.9101497178609718\n",
      "/storage/user/huju/transferred/ws_dditnach/Diffusion-SDF/config/ddit_stage2_diff_cond/recon/23999/Meshes/30e95358ed817addbaa0f6b191f18222_scene0514_01_ins_2.ply.ply\n",
      "/storage/user/huju/transferred/ws_dditnach/DATA/ScanARCW/canonical_mesh_manifoldplus/04256520/30e95358ed817addbaa0f6b191f18222_scene0514_01_ins_2/model_canonical_manifoldplus.obj\n"
     ]
    },
    {
     "name": "stderr",
     "output_type": "stream",
     "text": [
      "54it [00:56,  1.13s/it]"
     ]
    },
    {
     "name": "stdout",
     "output_type": "stream",
     "text": [
      "IoU: 0.8565111212040663\n",
      "/storage/user/huju/transferred/ws_dditnach/Diffusion-SDF/config/ddit_stage2_diff_cond/recon/23999/Meshes/681d226acbeaaf08a4ee0fb6a51564c3_scene0520_00_ins_1.ply.ply\n",
      "/storage/user/huju/transferred/ws_dditnach/DATA/ScanARCW/canonical_mesh_manifoldplus/04256520/681d226acbeaaf08a4ee0fb6a51564c3_scene0520_00_ins_1/model_canonical_manifoldplus.obj\n"
     ]
    },
    {
     "name": "stderr",
     "output_type": "stream",
     "text": [
      "55it [00:57,  1.09s/it]"
     ]
    },
    {
     "name": "stdout",
     "output_type": "stream",
     "text": [
      "IoU: 0.5983686668872056\n",
      "/storage/user/huju/transferred/ws_dditnach/Diffusion-SDF/config/ddit_stage2_diff_cond/recon/23999/Meshes/2abe8d5b5d29ff52f7628281ecb18112_scene0024_00_ins_3.ply.ply\n",
      "/storage/user/huju/transferred/ws_dditnach/DATA/ScanARCW/canonical_mesh_manifoldplus/04256520/2abe8d5b5d29ff52f7628281ecb18112_scene0024_00_ins_3/model_canonical_manifoldplus.obj\n"
     ]
    },
    {
     "name": "stderr",
     "output_type": "stream",
     "text": [
      "56it [00:59,  1.34s/it]"
     ]
    },
    {
     "name": "stdout",
     "output_type": "stream",
     "text": [
      "IoU: 0.6524580435507972\n",
      "/storage/user/huju/transferred/ws_dditnach/Diffusion-SDF/config/ddit_stage2_diff_cond/recon/23999/Meshes/e596ed19966b698c10edd100dffd8d85_scene0540_00_ins_2.ply.ply\n",
      "/storage/user/huju/transferred/ws_dditnach/DATA/ScanARCW/canonical_mesh_manifoldplus/04256520/e596ed19966b698c10edd100dffd8d85_scene0540_00_ins_2/model_canonical_manifoldplus.obj\n"
     ]
    },
    {
     "name": "stderr",
     "output_type": "stream",
     "text": [
      "57it [01:01,  1.47s/it]"
     ]
    },
    {
     "name": "stdout",
     "output_type": "stream",
     "text": [
      "IoU: 0.41177381950156977\n",
      "/storage/user/huju/transferred/ws_dditnach/Diffusion-SDF/config/ddit_stage2_diff_cond/recon/23999/Meshes/679010d35da8193219fb4103277a6b93_scene0701_02_ins_1.ply.ply\n",
      "/storage/user/huju/transferred/ws_dditnach/DATA/ScanARCW/canonical_mesh_manifoldplus/04256520/679010d35da8193219fb4103277a6b93_scene0701_02_ins_1/model_canonical_manifoldplus.obj\n"
     ]
    },
    {
     "name": "stderr",
     "output_type": "stream",
     "text": [
      "58it [01:02,  1.33s/it]"
     ]
    },
    {
     "name": "stdout",
     "output_type": "stream",
     "text": [
      "IoU: 0.7888669524428142\n",
      "/storage/user/huju/transferred/ws_dditnach/Diffusion-SDF/config/ddit_stage2_diff_cond/recon/23999/Meshes/2abe8d5b5d29ff52f7628281ecb18112_scene0588_02_ins_21.ply.ply\n",
      "/storage/user/huju/transferred/ws_dditnach/DATA/ScanARCW/canonical_mesh_manifoldplus/04256520/2abe8d5b5d29ff52f7628281ecb18112_scene0588_02_ins_21/model_canonical_manifoldplus.obj\n"
     ]
    },
    {
     "name": "stderr",
     "output_type": "stream",
     "text": [
      "59it [01:04,  1.49s/it]"
     ]
    },
    {
     "name": "stdout",
     "output_type": "stream",
     "text": [
      "IoU: 0.8923931805542411\n",
      "/storage/user/huju/transferred/ws_dditnach/Diffusion-SDF/config/ddit_stage2_diff_cond/recon/23999/Meshes/556166f38429cdfe29bdd38dd4a1a461_scene0499_00_ins_13.ply.ply\n",
      "/storage/user/huju/transferred/ws_dditnach/DATA/ScanARCW/canonical_mesh_manifoldplus/04256520/556166f38429cdfe29bdd38dd4a1a461_scene0499_00_ins_13/model_canonical_manifoldplus.obj\n"
     ]
    },
    {
     "name": "stderr",
     "output_type": "stream",
     "text": [
      "60it [01:05,  1.44s/it]"
     ]
    },
    {
     "name": "stdout",
     "output_type": "stream",
     "text": [
      "IoU: 0.7301134586358485\n",
      "/storage/user/huju/transferred/ws_dditnach/Diffusion-SDF/config/ddit_stage2_diff_cond/recon/23999/Meshes/d7b69d5015110b1e2c5b2f528cea9dd6_scene0507_00_ins_3.ply.ply\n",
      "/storage/user/huju/transferred/ws_dditnach/DATA/ScanARCW/canonical_mesh_manifoldplus/04256520/d7b69d5015110b1e2c5b2f528cea9dd6_scene0507_00_ins_3/model_canonical_manifoldplus.obj\n"
     ]
    },
    {
     "name": "stderr",
     "output_type": "stream",
     "text": [
      "61it [01:06,  1.34s/it]"
     ]
    },
    {
     "name": "stdout",
     "output_type": "stream",
     "text": [
      "IoU: 0.932837115929031\n",
      "/storage/user/huju/transferred/ws_dditnach/Diffusion-SDF/config/ddit_stage2_diff_cond/recon/23999/Meshes/23833969c0011b8e98494085d68ad6a0_scene0106_01_ins_1.ply.ply\n",
      "/storage/user/huju/transferred/ws_dditnach/DATA/ScanARCW/canonical_mesh_manifoldplus/04256520/23833969c0011b8e98494085d68ad6a0_scene0106_01_ins_1/model_canonical_manifoldplus.obj\n"
     ]
    },
    {
     "name": "stderr",
     "output_type": "stream",
     "text": [
      "62it [01:07,  1.23s/it]"
     ]
    },
    {
     "name": "stdout",
     "output_type": "stream",
     "text": [
      "IoU: 0.8392896175133261\n",
      "/storage/user/huju/transferred/ws_dditnach/Diffusion-SDF/config/ddit_stage2_diff_cond/recon/23999/Meshes/93b421c66ff4529f37b2bb75885cfc44_scene0540_02_ins_3.ply.ply\n",
      "/storage/user/huju/transferred/ws_dditnach/DATA/ScanARCW/canonical_mesh_manifoldplus/04256520/93b421c66ff4529f37b2bb75885cfc44_scene0540_02_ins_3/model_canonical_manifoldplus.obj\n"
     ]
    },
    {
     "name": "stderr",
     "output_type": "stream",
     "text": [
      "63it [01:08,  1.26s/it]"
     ]
    },
    {
     "name": "stdout",
     "output_type": "stream",
     "text": [
      "IoU: 0.78415497376189\n",
      "/storage/user/huju/transferred/ws_dditnach/Diffusion-SDF/config/ddit_stage2_diff_cond/recon/23999/Meshes/fb74336a6192c4787afee304cce81d6f_scene0588_03_ins_17.ply.ply\n",
      "/storage/user/huju/transferred/ws_dditnach/DATA/ScanARCW/canonical_mesh_manifoldplus/04256520/fb74336a6192c4787afee304cce81d6f_scene0588_03_ins_17/model_canonical_manifoldplus.obj\n"
     ]
    },
    {
     "name": "stderr",
     "output_type": "stream",
     "text": [
      "64it [01:09,  1.16s/it]"
     ]
    },
    {
     "name": "stdout",
     "output_type": "stream",
     "text": [
      "IoU: 0.950199311776475\n",
      "/storage/user/huju/transferred/ws_dditnach/Diffusion-SDF/config/ddit_stage2_diff_cond/recon/23999/Meshes/c81cf82daa56a165271513b292108db_scene0545_01_ins_1.ply.ply\n",
      "/storage/user/huju/transferred/ws_dditnach/DATA/ScanARCW/canonical_mesh_manifoldplus/04256520/c81cf82daa56a165271513b292108db_scene0545_01_ins_1/model_canonical_manifoldplus.obj\n"
     ]
    },
    {
     "name": "stderr",
     "output_type": "stream",
     "text": [
      "65it [01:10,  1.13s/it]"
     ]
    },
    {
     "name": "stdout",
     "output_type": "stream",
     "text": [
      "IoU: 0.7704082890688148\n",
      "/storage/user/huju/transferred/ws_dditnach/Diffusion-SDF/config/ddit_stage2_diff_cond/recon/23999/Meshes/377fceb1500e6452d9651cd1d591d64d_scene0651_02_ins_13.ply.ply\n",
      "/storage/user/huju/transferred/ws_dditnach/DATA/ScanARCW/canonical_mesh_manifoldplus/04256520/377fceb1500e6452d9651cd1d591d64d_scene0651_02_ins_13/model_canonical_manifoldplus.obj\n"
     ]
    },
    {
     "name": "stderr",
     "output_type": "stream",
     "text": [
      "66it [01:11,  1.05s/it]"
     ]
    },
    {
     "name": "stdout",
     "output_type": "stream",
     "text": [
      "IoU: 0.966722757746982\n",
      "/storage/user/huju/transferred/ws_dditnach/Diffusion-SDF/config/ddit_stage2_diff_cond/recon/23999/Meshes/f551048075b5042d7d6d37ceb4807b31_scene0001_00_ins_6.ply.ply\n",
      "/storage/user/huju/transferred/ws_dditnach/DATA/ScanARCW/canonical_mesh_manifoldplus/04256520/f551048075b5042d7d6d37ceb4807b31_scene0001_00_ins_6/model_canonical_manifoldplus.obj\n"
     ]
    },
    {
     "name": "stderr",
     "output_type": "stream",
     "text": [
      "67it [01:12,  1.00it/s]"
     ]
    },
    {
     "name": "stdout",
     "output_type": "stream",
     "text": [
      "IoU: 0.922339373778409\n",
      "/storage/user/huju/transferred/ws_dditnach/Diffusion-SDF/config/ddit_stage2_diff_cond/recon/23999/Meshes/3fcb0aaa346bd46f11e76965808086c8_scene0294_02_ins_1.ply.ply\n",
      "/storage/user/huju/transferred/ws_dditnach/DATA/ScanARCW/canonical_mesh_manifoldplus/04256520/3fcb0aaa346bd46f11e76965808086c8_scene0294_02_ins_1/model_canonical_manifoldplus.obj\n"
     ]
    },
    {
     "name": "stderr",
     "output_type": "stream",
     "text": [
      "68it [01:13,  1.04it/s]"
     ]
    },
    {
     "name": "stdout",
     "output_type": "stream",
     "text": [
      "IoU: 0.8622545369493292\n",
      "/storage/user/huju/transferred/ws_dditnach/Diffusion-SDF/config/ddit_stage2_diff_cond/recon/23999/Meshes/93b421c66ff4529f37b2bb75885cfc44_scene0201_01_ins_9.ply.ply\n",
      "/storage/user/huju/transferred/ws_dditnach/DATA/ScanARCW/canonical_mesh_manifoldplus/04256520/93b421c66ff4529f37b2bb75885cfc44_scene0201_01_ins_9/model_canonical_manifoldplus.obj\n"
     ]
    },
    {
     "name": "stderr",
     "output_type": "stream",
     "text": [
      "69it [01:15,  1.12s/it]"
     ]
    },
    {
     "name": "stdout",
     "output_type": "stream",
     "text": [
      "IoU: 0.6256015323586551\n",
      "/storage/user/huju/transferred/ws_dditnach/Diffusion-SDF/config/ddit_stage2_diff_cond/recon/23999/Meshes/5f1a2fef69c5c0ce19fb4103277a6b93_scene0160_00_ins_2.ply.ply\n",
      "/storage/user/huju/transferred/ws_dditnach/DATA/ScanARCW/canonical_mesh_manifoldplus/04256520/5f1a2fef69c5c0ce19fb4103277a6b93_scene0160_00_ins_2/model_canonical_manifoldplus.obj\n"
     ]
    },
    {
     "name": "stderr",
     "output_type": "stream",
     "text": [
      "70it [01:16,  1.19s/it]"
     ]
    },
    {
     "name": "stdout",
     "output_type": "stream",
     "text": [
      "IoU: 0.692186539659589\n",
      "/storage/user/huju/transferred/ws_dditnach/Diffusion-SDF/config/ddit_stage2_diff_cond/recon/23999/Meshes/13b9cc6c187edb98afd316e82119b42_scene0231_01_ins_12.ply.ply\n",
      "/storage/user/huju/transferred/ws_dditnach/DATA/ScanARCW/canonical_mesh_manifoldplus/04256520/13b9cc6c187edb98afd316e82119b42_scene0231_01_ins_12/model_canonical_manifoldplus.obj\n"
     ]
    },
    {
     "name": "stderr",
     "output_type": "stream",
     "text": [
      "71it [01:17,  1.19s/it]"
     ]
    },
    {
     "name": "stdout",
     "output_type": "stream",
     "text": [
      "IoU: 0.6677302989312268\n",
      "/storage/user/huju/transferred/ws_dditnach/Diffusion-SDF/config/ddit_stage2_diff_cond/recon/23999/Meshes/3746c2c38faaec395304a08899f58b0b_scene0024_02_ins_4.ply.ply\n",
      "/storage/user/huju/transferred/ws_dditnach/DATA/ScanARCW/canonical_mesh_manifoldplus/04256520/3746c2c38faaec395304a08899f58b0b_scene0024_02_ins_4/model_canonical_manifoldplus.obj\n"
     ]
    },
    {
     "name": "stderr",
     "output_type": "stream",
     "text": [
      "72it [01:18,  1.17s/it]"
     ]
    },
    {
     "name": "stdout",
     "output_type": "stream",
     "text": [
      "IoU: 0.9308354931553223\n",
      "/storage/user/huju/transferred/ws_dditnach/Diffusion-SDF/config/ddit_stage2_diff_cond/recon/23999/Meshes/68a1f95fed336299f51f77a6d7299806_scene0423_01_ins_1.ply.ply\n",
      "/storage/user/huju/transferred/ws_dditnach/DATA/ScanARCW/canonical_mesh_manifoldplus/04256520/68a1f95fed336299f51f77a6d7299806_scene0423_01_ins_1/model_canonical_manifoldplus.obj\n"
     ]
    },
    {
     "name": "stderr",
     "output_type": "stream",
     "text": [
      "73it [01:20,  1.35s/it]"
     ]
    },
    {
     "name": "stdout",
     "output_type": "stream",
     "text": [
      "IoU: 0.9399604773820432\n",
      "/storage/user/huju/transferred/ws_dditnach/Diffusion-SDF/config/ddit_stage2_diff_cond/recon/23999/Meshes/fb74336a6192c4787afee304cce81d6f_scene0536_02_ins_3.ply.ply\n",
      "/storage/user/huju/transferred/ws_dditnach/DATA/ScanARCW/canonical_mesh_manifoldplus/04256520/fb74336a6192c4787afee304cce81d6f_scene0536_02_ins_3/model_canonical_manifoldplus.obj\n"
     ]
    },
    {
     "name": "stderr",
     "output_type": "stream",
     "text": [
      "74it [01:21,  1.27s/it]"
     ]
    },
    {
     "name": "stdout",
     "output_type": "stream",
     "text": [
      "IoU: 0.8798591057097752\n",
      "/storage/user/huju/transferred/ws_dditnach/Diffusion-SDF/config/ddit_stage2_diff_cond/recon/23999/Meshes/fb74336a6192c4787afee304cce81d6f_scene0626_01_ins_3.ply.ply\n",
      "/storage/user/huju/transferred/ws_dditnach/DATA/ScanARCW/canonical_mesh_manifoldplus/04256520/fb74336a6192c4787afee304cce81d6f_scene0626_01_ins_3/model_canonical_manifoldplus.obj\n"
     ]
    },
    {
     "name": "stderr",
     "output_type": "stream",
     "text": [
      "75it [01:22,  1.23s/it]"
     ]
    },
    {
     "name": "stdout",
     "output_type": "stream",
     "text": [
      "IoU: 0.7593272978778458\n",
      "/storage/user/huju/transferred/ws_dditnach/Diffusion-SDF/config/ddit_stage2_diff_cond/recon/23999/Meshes/c2d26d8c8d5917d443ba2b548bab2839_scene0626_02_ins_3.ply.ply\n",
      "/storage/user/huju/transferred/ws_dditnach/DATA/ScanARCW/canonical_mesh_manifoldplus/04256520/c2d26d8c8d5917d443ba2b548bab2839_scene0626_02_ins_3/model_canonical_manifoldplus.obj\n"
     ]
    },
    {
     "name": "stderr",
     "output_type": "stream",
     "text": [
      "76it [01:23,  1.09s/it]"
     ]
    },
    {
     "name": "stdout",
     "output_type": "stream",
     "text": [
      "IoU: 0.9562380560640369\n",
      "/storage/user/huju/transferred/ws_dditnach/Diffusion-SDF/config/ddit_stage2_diff_cond/recon/23999/Meshes/c87497b3c00b3116be8af56c801ecf41_scene0027_00_ins_5.ply.ply\n",
      "/storage/user/huju/transferred/ws_dditnach/DATA/ScanARCW/canonical_mesh_manifoldplus/04256520/c87497b3c00b3116be8af56c801ecf41_scene0027_00_ins_5/model_canonical_manifoldplus.obj\n"
     ]
    },
    {
     "name": "stderr",
     "output_type": "stream",
     "text": [
      "77it [01:24,  1.01s/it]"
     ]
    },
    {
     "name": "stdout",
     "output_type": "stream",
     "text": [
      "IoU: 0.4698128596811658\n",
      "/storage/user/huju/transferred/ws_dditnach/Diffusion-SDF/config/ddit_stage2_diff_cond/recon/23999/Meshes/61f828a545649e98f1d7342136779c0_scene0177_01_ins_6.ply.ply\n",
      "/storage/user/huju/transferred/ws_dditnach/DATA/ScanARCW/canonical_mesh_manifoldplus/04256520/61f828a545649e98f1d7342136779c0_scene0177_01_ins_6/model_canonical_manifoldplus.obj\n"
     ]
    },
    {
     "name": "stderr",
     "output_type": "stream",
     "text": [
      "78it [01:25,  1.02s/it]"
     ]
    },
    {
     "name": "stdout",
     "output_type": "stream",
     "text": [
      "IoU: 0.42391812046124644\n",
      "/storage/user/huju/transferred/ws_dditnach/Diffusion-SDF/config/ddit_stage2_diff_cond/recon/23999/Meshes/2abe8d5b5d29ff52f7628281ecb18112_scene0024_01_ins_10.ply.ply\n",
      "/storage/user/huju/transferred/ws_dditnach/DATA/ScanARCW/canonical_mesh_manifoldplus/04256520/2abe8d5b5d29ff52f7628281ecb18112_scene0024_01_ins_10/model_canonical_manifoldplus.obj\n"
     ]
    },
    {
     "name": "stderr",
     "output_type": "stream",
     "text": [
      "79it [01:26,  1.21s/it]"
     ]
    },
    {
     "name": "stdout",
     "output_type": "stream",
     "text": [
      "IoU: 0.9340678264183961\n",
      "/storage/user/huju/transferred/ws_dditnach/Diffusion-SDF/config/ddit_stage2_diff_cond/recon/23999/Meshes/a2a136afb803eb35cc571cd3cf8f17a1_scene0505_01_ins_16.ply.ply\n",
      "/storage/user/huju/transferred/ws_dditnach/DATA/ScanARCW/canonical_mesh_manifoldplus/04256520/a2a136afb803eb35cc571cd3cf8f17a1_scene0505_01_ins_16/model_canonical_manifoldplus.obj\n"
     ]
    },
    {
     "name": "stderr",
     "output_type": "stream",
     "text": [
      "80it [01:28,  1.19s/it]"
     ]
    },
    {
     "name": "stdout",
     "output_type": "stream",
     "text": [
      "IoU: 0.6421104406229646\n",
      "/storage/user/huju/transferred/ws_dditnach/Diffusion-SDF/config/ddit_stage2_diff_cond/recon/23999/Meshes/f080807207cc4859b2403dba7fd079eb_scene0640_02_ins_15.ply.ply\n",
      "/storage/user/huju/transferred/ws_dditnach/DATA/ScanARCW/canonical_mesh_manifoldplus/04256520/f080807207cc4859b2403dba7fd079eb_scene0640_02_ins_15/model_canonical_manifoldplus.obj\n"
     ]
    },
    {
     "name": "stderr",
     "output_type": "stream",
     "text": [
      "81it [01:29,  1.21s/it]"
     ]
    },
    {
     "name": "stdout",
     "output_type": "stream",
     "text": [
      "IoU: 0.9509994705557975\n",
      "/storage/user/huju/transferred/ws_dditnach/Diffusion-SDF/config/ddit_stage2_diff_cond/recon/23999/Meshes/945a038c3e0c46ec19fb4103277a6b93_scene0279_01_ins_10.ply.ply\n",
      "/storage/user/huju/transferred/ws_dditnach/DATA/ScanARCW/canonical_mesh_manifoldplus/04256520/945a038c3e0c46ec19fb4103277a6b93_scene0279_01_ins_10/model_canonical_manifoldplus.obj\n"
     ]
    },
    {
     "name": "stderr",
     "output_type": "stream",
     "text": [
      "82it [01:30,  1.18s/it]"
     ]
    },
    {
     "name": "stdout",
     "output_type": "stream",
     "text": [
      "IoU: 0.9154708208001925\n",
      "/storage/user/huju/transferred/ws_dditnach/Diffusion-SDF/config/ddit_stage2_diff_cond/recon/23999/Meshes/918ae8afec3dc70af7628281ecb18112_scene0339_00_ins_3.ply.ply\n",
      "/storage/user/huju/transferred/ws_dditnach/DATA/ScanARCW/canonical_mesh_manifoldplus/04256520/918ae8afec3dc70af7628281ecb18112_scene0339_00_ins_3/model_canonical_manifoldplus.obj\n"
     ]
    },
    {
     "name": "stderr",
     "output_type": "stream",
     "text": [
      "83it [01:33,  1.63s/it]"
     ]
    },
    {
     "name": "stdout",
     "output_type": "stream",
     "text": [
      "IoU: 0.9478261970075428\n",
      "/storage/user/huju/transferred/ws_dditnach/Diffusion-SDF/config/ddit_stage2_diff_cond/recon/23999/Meshes/be5def882071141c1a8781c24b79ae57_scene0294_00_ins_3.ply.ply\n",
      "/storage/user/huju/transferred/ws_dditnach/DATA/ScanARCW/canonical_mesh_manifoldplus/04256520/be5def882071141c1a8781c24b79ae57_scene0294_00_ins_3/model_canonical_manifoldplus.obj\n"
     ]
    },
    {
     "name": "stderr",
     "output_type": "stream",
     "text": [
      "84it [01:34,  1.42s/it]"
     ]
    },
    {
     "name": "stdout",
     "output_type": "stream",
     "text": [
      "IoU: 0.7484219795422549\n",
      "/storage/user/huju/transferred/ws_dditnach/Diffusion-SDF/config/ddit_stage2_diff_cond/recon/23999/Meshes/86ba626309daedc8e8f8c11a24c52ebb_scene0036_01_ins_2.ply.ply\n",
      "/storage/user/huju/transferred/ws_dditnach/DATA/ScanARCW/canonical_mesh_manifoldplus/04256520/86ba626309daedc8e8f8c11a24c52ebb_scene0036_01_ins_2/model_canonical_manifoldplus.obj\n"
     ]
    },
    {
     "name": "stderr",
     "output_type": "stream",
     "text": [
      "85it [01:35,  1.35s/it]"
     ]
    },
    {
     "name": "stdout",
     "output_type": "stream",
     "text": [
      "IoU: 0.3454189540561921\n",
      "/storage/user/huju/transferred/ws_dditnach/Diffusion-SDF/config/ddit_stage2_diff_cond/recon/23999/Meshes/27c82d27a4d38e6f41b160b9adc112fd_scene0192_01_ins_3.ply.ply\n",
      "/storage/user/huju/transferred/ws_dditnach/DATA/ScanARCW/canonical_mesh_manifoldplus/04256520/27c82d27a4d38e6f41b160b9adc112fd_scene0192_01_ins_3/model_canonical_manifoldplus.obj\n"
     ]
    },
    {
     "name": "stderr",
     "output_type": "stream",
     "text": [
      "86it [01:38,  1.95s/it]"
     ]
    },
    {
     "name": "stdout",
     "output_type": "stream",
     "text": [
      "IoU: 0.896312046438664\n",
      "/storage/user/huju/transferred/ws_dditnach/Diffusion-SDF/config/ddit_stage2_diff_cond/recon/23999/Meshes/7fd704652332a45b2ce025aebfea84a4_scene0025_02_ins_4.ply.ply\n",
      "/storage/user/huju/transferred/ws_dditnach/DATA/ScanARCW/canonical_mesh_manifoldplus/04256520/7fd704652332a45b2ce025aebfea84a4_scene0025_02_ins_4/model_canonical_manifoldplus.obj\n"
     ]
    },
    {
     "name": "stderr",
     "output_type": "stream",
     "text": [
      "87it [01:39,  1.70s/it]"
     ]
    },
    {
     "name": "stdout",
     "output_type": "stream",
     "text": [
      "IoU: 0.6999868496634194\n",
      "/storage/user/huju/transferred/ws_dditnach/Diffusion-SDF/config/ddit_stage2_diff_cond/recon/23999/Meshes/adfda3aefb86478319fb4103277a6b93_scene0297_01_ins_4.ply.ply\n",
      "/storage/user/huju/transferred/ws_dditnach/DATA/ScanARCW/canonical_mesh_manifoldplus/04256520/adfda3aefb86478319fb4103277a6b93_scene0297_01_ins_4/model_canonical_manifoldplus.obj\n"
     ]
    },
    {
     "name": "stderr",
     "output_type": "stream",
     "text": [
      "88it [01:40,  1.54s/it]"
     ]
    },
    {
     "name": "stdout",
     "output_type": "stream",
     "text": [
      "IoU: 0.5211952143122047\n",
      "/storage/user/huju/transferred/ws_dditnach/Diffusion-SDF/config/ddit_stage2_diff_cond/recon/23999/Meshes/60fc7123d6360e6d620ef1b4a95dca08_scene0701_00_ins_4.ply.ply\n",
      "/storage/user/huju/transferred/ws_dditnach/DATA/ScanARCW/canonical_mesh_manifoldplus/04256520/60fc7123d6360e6d620ef1b4a95dca08_scene0701_00_ins_4/model_canonical_manifoldplus.obj\n"
     ]
    },
    {
     "name": "stderr",
     "output_type": "stream",
     "text": [
      "89it [01:41,  1.37s/it]"
     ]
    },
    {
     "name": "stdout",
     "output_type": "stream",
     "text": [
      "IoU: 0.24862994868728083\n",
      "/storage/user/huju/transferred/ws_dditnach/Diffusion-SDF/config/ddit_stage2_diff_cond/recon/23999/Meshes/c2aacd7edbf9b9f98f83f8853be14620_scene0239_02_ins_6.ply.ply\n",
      "/storage/user/huju/transferred/ws_dditnach/DATA/ScanARCW/canonical_mesh_manifoldplus/04256520/c2aacd7edbf9b9f98f83f8853be14620_scene0239_02_ins_6/model_canonical_manifoldplus.obj\n"
     ]
    },
    {
     "name": "stderr",
     "output_type": "stream",
     "text": [
      "90it [01:42,  1.29s/it]"
     ]
    },
    {
     "name": "stdout",
     "output_type": "stream",
     "text": [
      "IoU: 0.8450969132570768\n",
      "/storage/user/huju/transferred/ws_dditnach/Diffusion-SDF/config/ddit_stage2_diff_cond/recon/23999/Meshes/c3c5818cbe6d0903822a33e080d0e71c_scene0694_01_ins_15.ply.ply\n",
      "/storage/user/huju/transferred/ws_dditnach/DATA/ScanARCW/canonical_mesh_manifoldplus/04256520/c3c5818cbe6d0903822a33e080d0e71c_scene0694_01_ins_15/model_canonical_manifoldplus.obj\n"
     ]
    },
    {
     "name": "stderr",
     "output_type": "stream",
     "text": [
      "91it [01:43,  1.20s/it]"
     ]
    },
    {
     "name": "stdout",
     "output_type": "stream",
     "text": [
      "IoU: 0.934921094307693\n",
      "/storage/user/huju/transferred/ws_dditnach/Diffusion-SDF/config/ddit_stage2_diff_cond/recon/23999/Meshes/7833d94635b755793adc3470b30138f3_scene0330_00_ins_3.ply.ply\n",
      "/storage/user/huju/transferred/ws_dditnach/DATA/ScanARCW/canonical_mesh_manifoldplus/04256520/7833d94635b755793adc3470b30138f3_scene0330_00_ins_3/model_canonical_manifoldplus.obj\n"
     ]
    },
    {
     "name": "stderr",
     "output_type": "stream",
     "text": [
      "92it [01:45,  1.16s/it]"
     ]
    },
    {
     "name": "stdout",
     "output_type": "stream",
     "text": [
      "IoU: 0.9380627396136008\n",
      "/storage/user/huju/transferred/ws_dditnach/Diffusion-SDF/config/ddit_stage2_diff_cond/recon/23999/Meshes/f551048075b5042d7d6d37ceb4807b31_scene0239_00_ins_6.ply.ply\n",
      "/storage/user/huju/transferred/ws_dditnach/DATA/ScanARCW/canonical_mesh_manifoldplus/04256520/f551048075b5042d7d6d37ceb4807b31_scene0239_00_ins_6/model_canonical_manifoldplus.obj\n"
     ]
    },
    {
     "name": "stderr",
     "output_type": "stream",
     "text": [
      "93it [01:46,  1.11s/it]"
     ]
    },
    {
     "name": "stdout",
     "output_type": "stream",
     "text": [
      "IoU: 0.9510125804191538\n",
      "/storage/user/huju/transferred/ws_dditnach/Diffusion-SDF/config/ddit_stage2_diff_cond/recon/23999/Meshes/c856e6b37c9e12ab8a3de2846876a3c7_scene0334_02_ins_1.ply.ply\n",
      "/storage/user/huju/transferred/ws_dditnach/DATA/ScanARCW/canonical_mesh_manifoldplus/04256520/c856e6b37c9e12ab8a3de2846876a3c7_scene0334_02_ins_1/model_canonical_manifoldplus.obj\n"
     ]
    },
    {
     "name": "stderr",
     "output_type": "stream",
     "text": [
      "94it [01:46,  1.05s/it]"
     ]
    },
    {
     "name": "stdout",
     "output_type": "stream",
     "text": [
      "IoU: 0.39563961257210695\n",
      "/storage/user/huju/transferred/ws_dditnach/Diffusion-SDF/config/ddit_stage2_diff_cond/recon/23999/Meshes/c304687f0778986c6f1e631ee7d027b9_scene0326_00_ins_1.ply.ply\n",
      "/storage/user/huju/transferred/ws_dditnach/DATA/ScanARCW/canonical_mesh_manifoldplus/04256520/c304687f0778986c6f1e631ee7d027b9_scene0326_00_ins_1/model_canonical_manifoldplus.obj\n"
     ]
    },
    {
     "name": "stderr",
     "output_type": "stream",
     "text": [
      "94it [01:48,  1.15s/it]\n"
     ]
    },
    {
     "ename": "KeyboardInterrupt",
     "evalue": "",
     "output_type": "error",
     "traceback": [
      "\u001b[0;31m---------------------------------------------------------------------------\u001b[0m",
      "\u001b[0;31mKeyboardInterrupt\u001b[0m                         Traceback (most recent call last)",
      "Cell \u001b[0;32mIn[4], line 65\u001b[0m\n\u001b[1;32m     63\u001b[0m mesh1 \u001b[38;5;241m=\u001b[39m plotly_mesh3d_to_trimesh(mesh1)\n\u001b[1;32m     64\u001b[0m mesh2 \u001b[38;5;241m=\u001b[39m plotly_mesh3d_to_trimesh(mesh2)\n\u001b[0;32m---> 65\u001b[0m iou \u001b[38;5;241m=\u001b[39m \u001b[43mcompute_iou\u001b[49m\u001b[43m(\u001b[49m\u001b[43mmesh1\u001b[49m\u001b[43m,\u001b[49m\u001b[43m \u001b[49m\u001b[43mmesh2\u001b[49m\u001b[43m)\u001b[49m\n\u001b[1;32m     66\u001b[0m \u001b[38;5;28mprint\u001b[39m(\u001b[38;5;124mf\u001b[39m\u001b[38;5;124m\"\u001b[39m\u001b[38;5;124mIoU: \u001b[39m\u001b[38;5;132;01m{\u001b[39;00miou\u001b[38;5;132;01m}\u001b[39;00m\u001b[38;5;124m\"\u001b[39m)\n\u001b[1;32m     67\u001b[0m ious\u001b[38;5;241m.\u001b[39mappend(iou)\n",
      "Cell \u001b[0;32mIn[1], line 198\u001b[0m, in \u001b[0;36mcompute_iou\u001b[0;34m(mesh1, mesh2, sample_count)\u001b[0m\n\u001b[1;32m    195\u001b[0m \u001b[38;5;28;01mdef\u001b[39;00m \u001b[38;5;21mcompute_iou\u001b[39m(mesh1, mesh2, sample_count\u001b[38;5;241m=\u001b[39m\u001b[38;5;241m100000\u001b[39m):\n\u001b[1;32m    196\u001b[0m     \u001b[38;5;66;03m# 将两个mesh表面采样为点集\u001b[39;00m\n\u001b[1;32m    197\u001b[0m     points1 \u001b[38;5;241m=\u001b[39m mesh_to_points(mesh1, count\u001b[38;5;241m=\u001b[39msample_count)\n\u001b[0;32m--> 198\u001b[0m     points2 \u001b[38;5;241m=\u001b[39m \u001b[43mmesh_to_points\u001b[49m\u001b[43m(\u001b[49m\u001b[43mmesh2\u001b[49m\u001b[43m,\u001b[49m\u001b[43m \u001b[49m\u001b[43mcount\u001b[49m\u001b[38;5;241;43m=\u001b[39;49m\u001b[43msample_count\u001b[49m\u001b[43m)\u001b[49m\n\u001b[1;32m    200\u001b[0m     \u001b[38;5;66;03m# 分别计算两个点集的凸包体积\u001b[39;00m\n\u001b[1;32m    201\u001b[0m     volume1 \u001b[38;5;241m=\u001b[39m compute_convex_hull_volume(points1)\n",
      "Cell \u001b[0;32mIn[1], line 188\u001b[0m, in \u001b[0;36mmesh_to_points\u001b[0;34m(mesh, count)\u001b[0m\n\u001b[1;32m    186\u001b[0m \u001b[38;5;28;01mdef\u001b[39;00m \u001b[38;5;21mmesh_to_points\u001b[39m(mesh, count\u001b[38;5;241m=\u001b[39m\u001b[38;5;241m100000\u001b[39m):\n\u001b[1;32m    187\u001b[0m     \u001b[38;5;66;03m# 将mesh表面采样为点集\u001b[39;00m\n\u001b[0;32m--> 188\u001b[0m     \u001b[38;5;28;01mreturn\u001b[39;00m \u001b[43mmesh\u001b[49m\u001b[38;5;241;43m.\u001b[39;49m\u001b[43msample\u001b[49m\u001b[43m(\u001b[49m\u001b[43mcount\u001b[49m\u001b[43m)\u001b[49m\n",
      "File \u001b[0;32m/usr/wiss/lhao/anaconda3/envs/hjp_diffusionsdf/lib/python3.9/site-packages/trimesh/base.py:2419\u001b[0m, in \u001b[0;36mTrimesh.sample\u001b[0;34m(self, count, return_index, face_weight)\u001b[0m\n\u001b[1;32m   2391\u001b[0m \u001b[38;5;28;01mdef\u001b[39;00m \u001b[38;5;21msample\u001b[39m(\n\u001b[1;32m   2392\u001b[0m     \u001b[38;5;28mself\u001b[39m,\n\u001b[1;32m   2393\u001b[0m     count: \u001b[38;5;28mint\u001b[39m,\n\u001b[1;32m   2394\u001b[0m     return_index: \u001b[38;5;28mbool\u001b[39m \u001b[38;5;241m=\u001b[39m \u001b[38;5;28;01mFalse\u001b[39;00m,\n\u001b[1;32m   2395\u001b[0m     face_weight: Optional[NDArray[float64]] \u001b[38;5;241m=\u001b[39m \u001b[38;5;28;01mNone\u001b[39;00m,\n\u001b[1;32m   2396\u001b[0m ):\n\u001b[1;32m   2397\u001b[0m \u001b[38;5;250m    \u001b[39m\u001b[38;5;124;03m\"\"\"\u001b[39;00m\n\u001b[1;32m   2398\u001b[0m \u001b[38;5;124;03m    Return random samples distributed across the\u001b[39;00m\n\u001b[1;32m   2399\u001b[0m \u001b[38;5;124;03m    surface of the mesh\u001b[39;00m\n\u001b[0;32m   (...)\u001b[0m\n\u001b[1;32m   2417\u001b[0m \u001b[38;5;124;03m      Index of self.faces\u001b[39;00m\n\u001b[1;32m   2418\u001b[0m \u001b[38;5;124;03m    \"\"\"\u001b[39;00m\n\u001b[0;32m-> 2419\u001b[0m     samples, index \u001b[38;5;241m=\u001b[39m \u001b[43msample\u001b[49m\u001b[38;5;241;43m.\u001b[39;49m\u001b[43msample_surface\u001b[49m\u001b[43m(\u001b[49m\n\u001b[1;32m   2420\u001b[0m \u001b[43m        \u001b[49m\u001b[43mmesh\u001b[49m\u001b[38;5;241;43m=\u001b[39;49m\u001b[38;5;28;43mself\u001b[39;49m\u001b[43m,\u001b[49m\u001b[43m \u001b[49m\u001b[43mcount\u001b[49m\u001b[38;5;241;43m=\u001b[39;49m\u001b[43mcount\u001b[49m\u001b[43m,\u001b[49m\u001b[43m \u001b[49m\u001b[43mface_weight\u001b[49m\u001b[38;5;241;43m=\u001b[39;49m\u001b[43mface_weight\u001b[49m\n\u001b[1;32m   2421\u001b[0m \u001b[43m    \u001b[49m\u001b[43m)\u001b[49m\n\u001b[1;32m   2422\u001b[0m     \u001b[38;5;28;01mif\u001b[39;00m return_index:\n\u001b[1;32m   2423\u001b[0m         \u001b[38;5;28;01mreturn\u001b[39;00m samples, index\n",
      "File \u001b[0;32m/usr/wiss/lhao/anaconda3/envs/hjp_diffusionsdf/lib/python3.9/site-packages/trimesh/sample.py:81\u001b[0m, in \u001b[0;36msample_surface\u001b[0;34m(mesh, count, face_weight, sample_color, seed)\u001b[0m\n\u001b[1;32m     79\u001b[0m \u001b[38;5;66;03m# pull the vectors for the faces we are going to sample from\u001b[39;00m\n\u001b[1;32m     80\u001b[0m tri_origins \u001b[38;5;241m=\u001b[39m tri_origins[face_index]\n\u001b[0;32m---> 81\u001b[0m tri_vectors \u001b[38;5;241m=\u001b[39m \u001b[43mtri_vectors\u001b[49m\u001b[43m[\u001b[49m\u001b[43mface_index\u001b[49m\u001b[43m]\u001b[49m\n\u001b[1;32m     83\u001b[0m \u001b[38;5;28;01mif\u001b[39;00m sample_color \u001b[38;5;129;01mand\u001b[39;00m \u001b[38;5;28mhasattr\u001b[39m(mesh\u001b[38;5;241m.\u001b[39mvisual, \u001b[38;5;124m\"\u001b[39m\u001b[38;5;124muv\u001b[39m\u001b[38;5;124m\"\u001b[39m):\n\u001b[1;32m     84\u001b[0m     uv_origins \u001b[38;5;241m=\u001b[39m mesh\u001b[38;5;241m.\u001b[39mvisual\u001b[38;5;241m.\u001b[39muv[mesh\u001b[38;5;241m.\u001b[39mfaces[:, \u001b[38;5;241m0\u001b[39m]]\n",
      "File \u001b[0;32m/usr/wiss/lhao/anaconda3/envs/hjp_diffusionsdf/lib/python3.9/site-packages/trimesh/caching.py:180\u001b[0m, in \u001b[0;36mTrackedArray.__array_finalize__\u001b[0;34m(self, obj)\u001b[0m\n\u001b[1;32m    160\u001b[0m \u001b[38;5;28;01mclass\u001b[39;00m \u001b[38;5;21;01mTrackedArray\u001b[39;00m(np\u001b[38;5;241m.\u001b[39mndarray):\n\u001b[1;32m    161\u001b[0m \u001b[38;5;250m    \u001b[39m\u001b[38;5;124;03m\"\"\"\u001b[39;00m\n\u001b[1;32m    162\u001b[0m \u001b[38;5;124;03m    Subclass of numpy.ndarray that provides hash methods\u001b[39;00m\n\u001b[1;32m    163\u001b[0m \u001b[38;5;124;03m    to track changes.\u001b[39;00m\n\u001b[0;32m   (...)\u001b[0m\n\u001b[1;32m    177\u001b[0m \u001b[38;5;124;03m        `xxh3_64, xxh_64, blake2b, sha256`\u001b[39;00m\n\u001b[1;32m    178\u001b[0m \u001b[38;5;124;03m    \"\"\"\u001b[39;00m\n\u001b[0;32m--> 180\u001b[0m     \u001b[38;5;28;01mdef\u001b[39;00m \u001b[38;5;21m__array_finalize__\u001b[39m(\u001b[38;5;28mself\u001b[39m, obj):\n\u001b[1;32m    181\u001b[0m \u001b[38;5;250m        \u001b[39m\u001b[38;5;124;03m\"\"\"\u001b[39;00m\n\u001b[1;32m    182\u001b[0m \u001b[38;5;124;03m        Sets a modified flag on every TrackedArray\u001b[39;00m\n\u001b[1;32m    183\u001b[0m \u001b[38;5;124;03m        This flag will be set on every change as well as\u001b[39;00m\n\u001b[1;32m    184\u001b[0m \u001b[38;5;124;03m        during copies and certain types of slicing.\u001b[39;00m\n\u001b[1;32m    185\u001b[0m \u001b[38;5;124;03m        \"\"\"\u001b[39;00m\n\u001b[1;32m    187\u001b[0m         \u001b[38;5;28mself\u001b[39m\u001b[38;5;241m.\u001b[39m_dirty_hash \u001b[38;5;241m=\u001b[39m \u001b[38;5;28;01mTrue\u001b[39;00m\n",
      "\u001b[0;31mKeyboardInterrupt\u001b[0m: "
     ]
    }
   ],
   "source": [
    "label = \"sofa\"\n",
    "gt_root = \"/storage/user/huju/transferred/ws_dditnach/DATA/ScanARCW/canonical_mesh_manifoldplus\"\n",
    "gt_root = os.path.join(gt_root,label2id[label])\n",
    "\n",
    "sdf_root = \"/storage/user/huju/transferred/ws_dditnach/DeepSDF/data/SdfSamples/canonical_mesh_manifoldplus\" # 加载相关的transformation\n",
    "\n",
    "output_root = \"/storage/user/huju/transferred/ws_dditnach/Diffusion-SDF/config/stage2_diff_cond_scanarcw/recon/49999/Meshes\"\n",
    "output_root = \"/storage/user/huju/transferred/ws_dditnach/Diffusion-SDF/config/ddit_stage2_diff_cond/recon/23999/Meshes\"\n",
    "\n",
    "mesh_list = os.listdir(output_root)\n",
    "ious = []\n",
    "base_names = []\n",
    "\n",
    "for id_mesh, mesh in tqdm(enumerate(mesh_list)):\n",
    "    if id_mesh < 6:\n",
    "        continue\n",
    "\n",
    "    mesh_path1 = os.path.join(output_root,mesh)\n",
    "\n",
    "    base_name = os.path.basename(mesh_path1).split(\".\")[0]\n",
    "    base_names.append(base_name)\n",
    "\n",
    "    mesh_id, scene1, scene2, _,  obj_id = base_name.split(\".\")[0].split(\"_\")\n",
    "    \n",
    "    # pdb.set_trace()\n",
    "    # 加载两个mesh文件\n",
    "    # mesh1 = load_mesh(mesh_path1)\n",
    "    mesh1 = load_mesh(mesh_path1)\n",
    "\n",
    "    # mesh_path2 = os.path.join(gt_root,base_name, \"model_normalized_manifoldplus.obj\")\n",
    "    mesh_path2 = os.path.join(gt_root,base_name,\"model_canonical_manifoldplus.obj\")\n",
    "    mesh2 = load_mesh(mesh_path2)\n",
    "    \n",
    "    sdf_path = os.path.join(sdf_root,label2id[label],base_name+\".npz\")\n",
    "    sdf = np.load(sdf_path)\n",
    "    translation_mesh2sdf = sdf['translation_mesh2sdf']\n",
    "    scale_mesh2sdf = sdf[\"scale_mesh2sdf\"]\n",
    "\n",
    "    mesh1 = mesh_apply_rts(mesh1,mesh_name=\"recon\",mesh_color=\"rgba(22,244,244,0.5)\")\n",
    "    # mesh2 = mesh_apply_rts(mesh2,translation_c2w=translation_mesh2sdf,scale_c2w=scale_mesh2sdf,mesh_name=\"gt\")\n",
    "    mesh2, scale, translation = BoundingCubeNormalization(mesh2)\n",
    "    # mesh2 = mesh_apply_rts(mesh2,mesh_name=\"gt\")\n",
    "\n",
    "    # input()\n",
    "\n",
    "    print(mesh_path1)\n",
    "    print(mesh_path2)\n",
    "\n",
    "    # vis_data = [mesh1,mesh2]\n",
    "\n",
    "    # layout = go.Layout(scene=dict(\n",
    "    #         aspectmode='data',  # Set the aspect ratio to 'cube' for equal scales\n",
    "    #         xaxis_title='X',\n",
    "    #         yaxis_title='Y',\n",
    "    #         zaxis_title='Z',\n",
    "    #     ),)\n",
    "\n",
    "    # fig = go.Figure()\n",
    "    # fig = go.Figure(data=vis_data, layout=layout)\n",
    "    # fig.show()\n",
    "\n",
    "    # 计算IoU\n",
    "    mesh1 = plotly_mesh3d_to_trimesh(mesh1)\n",
    "    mesh2 = plotly_mesh3d_to_trimesh(mesh2)\n",
    "    iou = compute_iou(mesh1, mesh2)\n",
    "    print(f\"IoU: {iou}\")\n",
    "    ious.append(iou)\n",
    "\n",
    "    # input()\n",
    "\n",
    "    continue"
   ]
  },
  {
   "cell_type": "markdown",
   "metadata": {},
   "source": [
    "# Sofa"
   ]
  },
  {
   "cell_type": "markdown",
   "metadata": {},
   "source": [
    "## ddit_stage2_diff_cond_sofa_train_neighbor"
   ]
  },
  {
   "cell_type": "code",
   "execution_count": 5,
   "metadata": {},
   "outputs": [
    {
     "name": "stderr",
     "output_type": "stream",
     "text": [
      "0it [00:00, ?it/s]"
     ]
    },
    {
     "name": "stdout",
     "output_type": "stream",
     "text": [
      "/storage/user/huju/transferred/ws_dditnach/Diffusion-SDF/config/ddit_stage2_diff_cond_sofa_train_neighbor/output/49999/test/mesh/Meshes/93b421c66ff4529f37b2bb75885cfc44_scene0540_02_ins_3.ply.ply\n",
      "/storage/user/huju/transferred/ws_dditnach/DATA/ScanARCW/canonical_mesh_manifoldplus/04256520/93b421c66ff4529f37b2bb75885cfc44_scene0540_02_ins_3/model_canonical_manifoldplus.obj\n"
     ]
    },
    {
     "name": "stderr",
     "output_type": "stream",
     "text": [
      "7it [00:00,  7.66it/s]"
     ]
    },
    {
     "name": "stdout",
     "output_type": "stream",
     "text": [
      "IoU: 0.6415886093039446\n",
      "/storage/user/huju/transferred/ws_dditnach/Diffusion-SDF/config/ddit_stage2_diff_cond_sofa_train_neighbor/output/49999/test/mesh/Meshes/377fceb1500e6452d9651cd1d591d64d_scene0651_02_ins_13.ply.ply\n",
      "/storage/user/huju/transferred/ws_dditnach/DATA/ScanARCW/canonical_mesh_manifoldplus/04256520/377fceb1500e6452d9651cd1d591d64d_scene0651_02_ins_13/model_canonical_manifoldplus.obj\n"
     ]
    },
    {
     "name": "stderr",
     "output_type": "stream",
     "text": [
      "8it [00:01,  4.43it/s]"
     ]
    },
    {
     "name": "stdout",
     "output_type": "stream",
     "text": [
      "IoU: 0.720797080469073\n",
      "/storage/user/huju/transferred/ws_dditnach/Diffusion-SDF/config/ddit_stage2_diff_cond_sofa_train_neighbor/output/49999/test/mesh/Meshes/61f828a545649e98f1d7342136779c0_scene0177_01_ins_6.ply.ply\n",
      "/storage/user/huju/transferred/ws_dditnach/DATA/ScanARCW/canonical_mesh_manifoldplus/04256520/61f828a545649e98f1d7342136779c0_scene0177_01_ins_6/model_canonical_manifoldplus.obj\n"
     ]
    },
    {
     "name": "stderr",
     "output_type": "stream",
     "text": [
      "9it [00:02,  3.22it/s]"
     ]
    },
    {
     "name": "stdout",
     "output_type": "stream",
     "text": [
      "IoU: 0.5676766439953522\n",
      "/storage/user/huju/transferred/ws_dditnach/Diffusion-SDF/config/ddit_stage2_diff_cond_sofa_train_neighbor/output/49999/test/mesh/Meshes/3746c2c38faaec395304a08899f58b0b_scene0022_01_ins_5.ply.ply\n",
      "/storage/user/huju/transferred/ws_dditnach/DATA/ScanARCW/canonical_mesh_manifoldplus/04256520/3746c2c38faaec395304a08899f58b0b_scene0022_01_ins_5/model_canonical_manifoldplus.obj\n"
     ]
    },
    {
     "name": "stderr",
     "output_type": "stream",
     "text": [
      "10it [00:03,  1.84it/s]"
     ]
    },
    {
     "name": "stdout",
     "output_type": "stream",
     "text": [
      "IoU: 0.5340961342854078\n",
      "/storage/user/huju/transferred/ws_dditnach/Diffusion-SDF/config/ddit_stage2_diff_cond_sofa_train_neighbor/output/49999/test/mesh/Meshes/8a9630332c2cb42644ac83b3e97ad658_scene0344_00_ins_4.ply.ply\n",
      "/storage/user/huju/transferred/ws_dditnach/DATA/ScanARCW/canonical_mesh_manifoldplus/04256520/8a9630332c2cb42644ac83b3e97ad658_scene0344_00_ins_4/model_canonical_manifoldplus.obj\n"
     ]
    },
    {
     "name": "stderr",
     "output_type": "stream",
     "text": [
      "11it [00:05,  1.33it/s]"
     ]
    },
    {
     "name": "stdout",
     "output_type": "stream",
     "text": [
      "IoU: 0.24960977754689942\n",
      "/storage/user/huju/transferred/ws_dditnach/Diffusion-SDF/config/ddit_stage2_diff_cond_sofa_train_neighbor/output/49999/test/mesh/Meshes/a930d381392ff51140b559ef47048b86_scene0181_00_ins_8.ply.ply\n",
      "/storage/user/huju/transferred/ws_dditnach/DATA/ScanARCW/canonical_mesh_manifoldplus/04256520/a930d381392ff51140b559ef47048b86_scene0181_00_ins_8/model_canonical_manifoldplus.obj\n"
     ]
    },
    {
     "name": "stderr",
     "output_type": "stream",
     "text": [
      "12it [00:06,  1.13it/s]"
     ]
    },
    {
     "name": "stdout",
     "output_type": "stream",
     "text": [
      "IoU: 0.4774004350915905\n",
      "/storage/user/huju/transferred/ws_dditnach/Diffusion-SDF/config/ddit_stage2_diff_cond_sofa_train_neighbor/output/49999/test/mesh/Meshes/a90cf2c399b7052cd4061e538ffc8def_scene0022_00_ins_4.ply.ply\n",
      "/storage/user/huju/transferred/ws_dditnach/DATA/ScanARCW/canonical_mesh_manifoldplus/04256520/a90cf2c399b7052cd4061e538ffc8def_scene0022_00_ins_4/model_canonical_manifoldplus.obj\n"
     ]
    },
    {
     "name": "stderr",
     "output_type": "stream",
     "text": [
      "13it [00:07,  1.02s/it]"
     ]
    },
    {
     "name": "stdout",
     "output_type": "stream",
     "text": [
      "IoU: 0.08656170945255234\n",
      "/storage/user/huju/transferred/ws_dditnach/Diffusion-SDF/config/ddit_stage2_diff_cond_sofa_train_neighbor/output/49999/test/mesh/Meshes/8a9630332c2cb42644ac83b3e97ad658_scene0344_00_ins_3.ply.ply\n",
      "/storage/user/huju/transferred/ws_dditnach/DATA/ScanARCW/canonical_mesh_manifoldplus/04256520/8a9630332c2cb42644ac83b3e97ad658_scene0344_00_ins_3/model_canonical_manifoldplus.obj\n"
     ]
    },
    {
     "name": "stderr",
     "output_type": "stream",
     "text": [
      "14it [00:09,  1.11s/it]"
     ]
    },
    {
     "name": "stdout",
     "output_type": "stream",
     "text": [
      "IoU: 0.6347814038546504\n",
      "/storage/user/huju/transferred/ws_dditnach/Diffusion-SDF/config/ddit_stage2_diff_cond_sofa_train_neighbor/output/49999/test/mesh/Meshes/b6049bcbc56eb65e2553cc33364504d5_scene0166_00_ins_2.ply.ply\n",
      "/storage/user/huju/transferred/ws_dditnach/DATA/ScanARCW/canonical_mesh_manifoldplus/04256520/b6049bcbc56eb65e2553cc33364504d5_scene0166_00_ins_2/model_canonical_manifoldplus.obj\n"
     ]
    },
    {
     "name": "stderr",
     "output_type": "stream",
     "text": [
      "15it [00:10,  1.10s/it]"
     ]
    },
    {
     "name": "stdout",
     "output_type": "stream",
     "text": [
      "IoU: 0.5908094773607545\n",
      "/storage/user/huju/transferred/ws_dditnach/Diffusion-SDF/config/ddit_stage2_diff_cond_sofa_train_neighbor/output/49999/test/mesh/Meshes/23833969c0011b8e98494085d68ad6a0_scene0591_01_ins_11.ply.ply\n",
      "/storage/user/huju/transferred/ws_dditnach/DATA/ScanARCW/canonical_mesh_manifoldplus/04256520/23833969c0011b8e98494085d68ad6a0_scene0591_01_ins_11/model_canonical_manifoldplus.obj\n"
     ]
    },
    {
     "name": "stderr",
     "output_type": "stream",
     "text": [
      "16it [00:11,  1.07s/it]"
     ]
    },
    {
     "name": "stdout",
     "output_type": "stream",
     "text": [
      "IoU: 0.5708235962332527\n",
      "/storage/user/huju/transferred/ws_dditnach/Diffusion-SDF/config/ddit_stage2_diff_cond_sofa_train_neighbor/output/49999/test/mesh/Meshes/8a9630332c2cb42644ac83b3e97ad658_scene0344_00_ins_2.ply.ply\n",
      "/storage/user/huju/transferred/ws_dditnach/DATA/ScanARCW/canonical_mesh_manifoldplus/04256520/8a9630332c2cb42644ac83b3e97ad658_scene0344_00_ins_2/model_canonical_manifoldplus.obj\n"
     ]
    },
    {
     "name": "stderr",
     "output_type": "stream",
     "text": [
      "17it [00:12,  1.17s/it]"
     ]
    },
    {
     "name": "stdout",
     "output_type": "stream",
     "text": [
      "IoU: 0.09443199107842\n",
      "/storage/user/huju/transferred/ws_dditnach/Diffusion-SDF/config/ddit_stage2_diff_cond_sofa_train_neighbor/output/49999/test/mesh/Meshes/7ae657b39aa2be68ccd1bcd57588acf8_scene0517_01_ins_6.ply.ply\n",
      "/storage/user/huju/transferred/ws_dditnach/DATA/ScanARCW/canonical_mesh_manifoldplus/04256520/7ae657b39aa2be68ccd1bcd57588acf8_scene0517_01_ins_6/model_canonical_manifoldplus.obj\n"
     ]
    },
    {
     "name": "stderr",
     "output_type": "stream",
     "text": [
      "18it [00:13,  1.13s/it]"
     ]
    },
    {
     "name": "stdout",
     "output_type": "stream",
     "text": [
      "IoU: 0.7000150194803394\n",
      "/storage/user/huju/transferred/ws_dditnach/Diffusion-SDF/config/ddit_stage2_diff_cond_sofa_train_neighbor/output/49999/test/mesh/Meshes/bdd7a0eb66e8884dad04591c9486ec0_scene0701_02_ins_4.ply.ply\n",
      "/storage/user/huju/transferred/ws_dditnach/DATA/ScanARCW/canonical_mesh_manifoldplus/04256520/bdd7a0eb66e8884dad04591c9486ec0_scene0701_02_ins_4/model_canonical_manifoldplus.obj\n"
     ]
    },
    {
     "name": "stderr",
     "output_type": "stream",
     "text": [
      "19it [00:14,  1.15s/it]"
     ]
    },
    {
     "name": "stdout",
     "output_type": "stream",
     "text": [
      "IoU: 0.4137503527803873\n",
      "/storage/user/huju/transferred/ws_dditnach/Diffusion-SDF/config/ddit_stage2_diff_cond_sofa_train_neighbor/output/49999/test/mesh/Meshes/d8c748ced5e5f2cc7e3820d17093b7c2_scene0132_02_ins_8.ply.ply\n",
      "/storage/user/huju/transferred/ws_dditnach/DATA/ScanARCW/canonical_mesh_manifoldplus/04256520/d8c748ced5e5f2cc7e3820d17093b7c2_scene0132_02_ins_8/model_canonical_manifoldplus.obj\n"
     ]
    },
    {
     "name": "stderr",
     "output_type": "stream",
     "text": [
      "20it [00:15,  1.06s/it]"
     ]
    },
    {
     "name": "stdout",
     "output_type": "stream",
     "text": [
      "IoU: 0.39251064637303484\n",
      "/storage/user/huju/transferred/ws_dditnach/Diffusion-SDF/config/ddit_stage2_diff_cond_sofa_train_neighbor/output/49999/test/mesh/Meshes/1230d31e3a6cbf309cd431573238602d_scene0435_00_ins_13.ply.ply\n",
      "/storage/user/huju/transferred/ws_dditnach/DATA/ScanARCW/canonical_mesh_manifoldplus/04256520/1230d31e3a6cbf309cd431573238602d_scene0435_00_ins_13/model_canonical_manifoldplus.obj\n"
     ]
    },
    {
     "name": "stderr",
     "output_type": "stream",
     "text": [
      "21it [00:17,  1.28s/it]"
     ]
    },
    {
     "name": "stdout",
     "output_type": "stream",
     "text": [
      "IoU: 0.3027277586481033\n",
      "/storage/user/huju/transferred/ws_dditnach/Diffusion-SDF/config/ddit_stage2_diff_cond_sofa_train_neighbor/output/49999/test/mesh/Meshes/2abe8d5b5d29ff52f7628281ecb18112_scene0165_01_ins_3.ply.ply\n",
      "/storage/user/huju/transferred/ws_dditnach/DATA/ScanARCW/canonical_mesh_manifoldplus/04256520/2abe8d5b5d29ff52f7628281ecb18112_scene0165_01_ins_3/model_canonical_manifoldplus.obj\n"
     ]
    },
    {
     "name": "stderr",
     "output_type": "stream",
     "text": [
      "22it [00:19,  1.39s/it]"
     ]
    },
    {
     "name": "stdout",
     "output_type": "stream",
     "text": [
      "IoU: 0.2671537556711011\n",
      "/storage/user/huju/transferred/ws_dditnach/Diffusion-SDF/config/ddit_stage2_diff_cond_sofa_train_neighbor/output/49999/test/mesh/Meshes/8659f0f422096e3d26f6c8b5b75f0ee9_scene0288_01_ins_3.ply.ply\n",
      "/storage/user/huju/transferred/ws_dditnach/DATA/ScanARCW/canonical_mesh_manifoldplus/04256520/8659f0f422096e3d26f6c8b5b75f0ee9_scene0288_01_ins_3/model_canonical_manifoldplus.obj\n"
     ]
    },
    {
     "name": "stderr",
     "output_type": "stream",
     "text": [
      "23it [00:19,  1.23s/it]"
     ]
    },
    {
     "name": "stdout",
     "output_type": "stream",
     "text": [
      "IoU: 0.5008529774863408\n",
      "/storage/user/huju/transferred/ws_dditnach/Diffusion-SDF/config/ddit_stage2_diff_cond_sofa_train_neighbor/output/49999/test/mesh/Meshes/fb74336a6192c4787afee304cce81d6f_scene0087_02_ins_2.ply.ply\n",
      "/storage/user/huju/transferred/ws_dditnach/DATA/ScanARCW/canonical_mesh_manifoldplus/04256520/fb74336a6192c4787afee304cce81d6f_scene0087_02_ins_2/model_canonical_manifoldplus.obj\n"
     ]
    },
    {
     "name": "stderr",
     "output_type": "stream",
     "text": [
      "24it [00:20,  1.16s/it]"
     ]
    },
    {
     "name": "stdout",
     "output_type": "stream",
     "text": [
      "IoU: 0.5035556775045471\n",
      "/storage/user/huju/transferred/ws_dditnach/Diffusion-SDF/config/ddit_stage2_diff_cond_sofa_train_neighbor/output/49999/test/mesh/Meshes/8a9630332c2cb42644ac83b3e97ad658_scene0344_00_ins_5.ply.ply\n",
      "/storage/user/huju/transferred/ws_dditnach/DATA/ScanARCW/canonical_mesh_manifoldplus/04256520/8a9630332c2cb42644ac83b3e97ad658_scene0344_00_ins_5/model_canonical_manifoldplus.obj\n"
     ]
    },
    {
     "name": "stderr",
     "output_type": "stream",
     "text": [
      "25it [00:22,  1.18s/it]"
     ]
    },
    {
     "name": "stdout",
     "output_type": "stream",
     "text": [
      "IoU: 0.10194616890667128\n",
      "/storage/user/huju/transferred/ws_dditnach/Diffusion-SDF/config/ddit_stage2_diff_cond_sofa_train_neighbor/output/49999/test/mesh/Meshes/556166f38429cdfe29bdd38dd4a1a461_scene0001_01_ins_11.ply.ply\n",
      "/storage/user/huju/transferred/ws_dditnach/DATA/ScanARCW/canonical_mesh_manifoldplus/04256520/556166f38429cdfe29bdd38dd4a1a461_scene0001_01_ins_11/model_canonical_manifoldplus.obj\n"
     ]
    },
    {
     "name": "stderr",
     "output_type": "stream",
     "text": [
      "26it [00:23,  1.17s/it]"
     ]
    },
    {
     "name": "stdout",
     "output_type": "stream",
     "text": [
      "IoU: 0.8018838172215383\n",
      "/storage/user/huju/transferred/ws_dditnach/Diffusion-SDF/config/ddit_stage2_diff_cond_sofa_train_neighbor/output/49999/test/mesh/Meshes/62e90a6ed511a1b2d291861d5bc3e7c8_scene0701_02_ins_2.ply.ply\n",
      "/storage/user/huju/transferred/ws_dditnach/DATA/ScanARCW/canonical_mesh_manifoldplus/04256520/62e90a6ed511a1b2d291861d5bc3e7c8_scene0701_02_ins_2/model_canonical_manifoldplus.obj\n"
     ]
    },
    {
     "name": "stderr",
     "output_type": "stream",
     "text": [
      "27it [00:24,  1.10s/it]"
     ]
    },
    {
     "name": "stdout",
     "output_type": "stream",
     "text": [
      "IoU: 0.3717439582561138\n",
      "/storage/user/huju/transferred/ws_dditnach/Diffusion-SDF/config/ddit_stage2_diff_cond_sofa_train_neighbor/output/49999/test/mesh/Meshes/556166f38429cdfe29bdd38dd4a1a461_scene0001_01_ins_10.ply.ply\n",
      "/storage/user/huju/transferred/ws_dditnach/DATA/ScanARCW/canonical_mesh_manifoldplus/04256520/556166f38429cdfe29bdd38dd4a1a461_scene0001_01_ins_10/model_canonical_manifoldplus.obj\n"
     ]
    },
    {
     "name": "stderr",
     "output_type": "stream",
     "text": [
      "28it [00:25,  1.11s/it]"
     ]
    },
    {
     "name": "stdout",
     "output_type": "stream",
     "text": [
      "IoU: 0.8059924393641514\n",
      "/storage/user/huju/transferred/ws_dditnach/Diffusion-SDF/config/ddit_stage2_diff_cond_sofa_train_neighbor/output/49999/test/mesh/Meshes/d58a2c86b9b71f6bef4e42d70375aed8_scene0301_00_ins_9.ply.ply\n",
      "/storage/user/huju/transferred/ws_dditnach/DATA/ScanARCW/canonical_mesh_manifoldplus/04256520/d58a2c86b9b71f6bef4e42d70375aed8_scene0301_00_ins_9/model_canonical_manifoldplus.obj\n"
     ]
    },
    {
     "name": "stderr",
     "output_type": "stream",
     "text": [
      "29it [00:26,  1.09s/it]"
     ]
    },
    {
     "name": "stdout",
     "output_type": "stream",
     "text": [
      "IoU: 0.24501583491448886\n",
      "/storage/user/huju/transferred/ws_dditnach/Diffusion-SDF/config/ddit_stage2_diff_cond_sofa_train_neighbor/output/49999/test/mesh/Meshes/354c37c168778a0bd4830313df3656b_scene0587_00_ins_3.ply.ply\n",
      "/storage/user/huju/transferred/ws_dditnach/DATA/ScanARCW/canonical_mesh_manifoldplus/04256520/354c37c168778a0bd4830313df3656b_scene0587_00_ins_3/model_canonical_manifoldplus.obj\n"
     ]
    },
    {
     "name": "stderr",
     "output_type": "stream",
     "text": [
      "30it [00:27,  1.03s/it]"
     ]
    },
    {
     "name": "stdout",
     "output_type": "stream",
     "text": [
      "IoU: 0.4078026061269623\n",
      "/storage/user/huju/transferred/ws_dditnach/Diffusion-SDF/config/ddit_stage2_diff_cond_sofa_train_neighbor/output/49999/test/mesh/Meshes/8a9630332c2cb42644ac83b3e97ad658_scene0344_00_ins_6.ply.ply\n",
      "/storage/user/huju/transferred/ws_dditnach/DATA/ScanARCW/canonical_mesh_manifoldplus/04256520/8a9630332c2cb42644ac83b3e97ad658_scene0344_00_ins_6/model_canonical_manifoldplus.obj\n"
     ]
    },
    {
     "name": "stderr",
     "output_type": "stream",
     "text": [
      "31it [00:28,  1.14s/it]"
     ]
    },
    {
     "name": "stdout",
     "output_type": "stream",
     "text": [
      "IoU: 0.12930797857442972\n",
      "/storage/user/huju/transferred/ws_dditnach/Diffusion-SDF/config/ddit_stage2_diff_cond_sofa_train_neighbor/output/49999/test/mesh/Meshes/7ae657b39aa2be68ccd1bcd57588acf8_scene0424_00_ins_6.ply.ply\n",
      "/storage/user/huju/transferred/ws_dditnach/DATA/ScanARCW/canonical_mesh_manifoldplus/04256520/7ae657b39aa2be68ccd1bcd57588acf8_scene0424_00_ins_6/model_canonical_manifoldplus.obj\n"
     ]
    },
    {
     "name": "stderr",
     "output_type": "stream",
     "text": [
      "32it [00:29,  1.08s/it]"
     ]
    },
    {
     "name": "stdout",
     "output_type": "stream",
     "text": [
      "IoU: 0.46315563105269275\n",
      "/storage/user/huju/transferred/ws_dditnach/Diffusion-SDF/config/ddit_stage2_diff_cond_sofa_train_neighbor/output/49999/test/mesh/Meshes/273e8e15b6740e5932a526e2e9a7e9ae_scene0582_00_ins_10.ply.ply\n",
      "/storage/user/huju/transferred/ws_dditnach/DATA/ScanARCW/canonical_mesh_manifoldplus/04256520/273e8e15b6740e5932a526e2e9a7e9ae_scene0582_00_ins_10/model_canonical_manifoldplus.obj\n"
     ]
    },
    {
     "name": "stderr",
     "output_type": "stream",
     "text": [
      "33it [00:30,  1.11s/it]"
     ]
    },
    {
     "name": "stdout",
     "output_type": "stream",
     "text": [
      "IoU: 0.591017056121677\n",
      "/storage/user/huju/transferred/ws_dditnach/Diffusion-SDF/config/ddit_stage2_diff_cond_sofa_train_neighbor/output/49999/test/mesh/Meshes/2abe8d5b5d29ff52f7628281ecb18112_scene0165_01_ins_2.ply.ply\n",
      "/storage/user/huju/transferred/ws_dditnach/DATA/ScanARCW/canonical_mesh_manifoldplus/04256520/2abe8d5b5d29ff52f7628281ecb18112_scene0165_01_ins_2/model_canonical_manifoldplus.obj\n"
     ]
    },
    {
     "name": "stderr",
     "output_type": "stream",
     "text": [
      "34it [00:32,  1.38s/it]"
     ]
    },
    {
     "name": "stdout",
     "output_type": "stream",
     "text": [
      "IoU: 0.30124370897681685\n",
      "/storage/user/huju/transferred/ws_dditnach/Diffusion-SDF/config/ddit_stage2_diff_cond_sofa_train_neighbor/output/49999/test/mesh/Meshes/8ea11732a1198be1dae12f3947d07dec_scene0145_00_ins_2.ply.ply\n",
      "/storage/user/huju/transferred/ws_dditnach/DATA/ScanARCW/canonical_mesh_manifoldplus/04256520/8ea11732a1198be1dae12f3947d07dec_scene0145_00_ins_2/model_canonical_manifoldplus.obj\n"
     ]
    },
    {
     "name": "stderr",
     "output_type": "stream",
     "text": [
      "35it [00:33,  1.29s/it]"
     ]
    },
    {
     "name": "stdout",
     "output_type": "stream",
     "text": [
      "IoU: 0.6411625924719899\n",
      "/storage/user/huju/transferred/ws_dditnach/Diffusion-SDF/config/ddit_stage2_diff_cond_sofa_train_neighbor/output/49999/test/mesh/Meshes/556166f38429cdfe29bdd38dd4a1a461_scene0001_01_ins_8.ply.ply\n",
      "/storage/user/huju/transferred/ws_dditnach/DATA/ScanARCW/canonical_mesh_manifoldplus/04256520/556166f38429cdfe29bdd38dd4a1a461_scene0001_01_ins_8/model_canonical_manifoldplus.obj\n"
     ]
    },
    {
     "name": "stderr",
     "output_type": "stream",
     "text": [
      "36it [00:35,  1.30s/it]"
     ]
    },
    {
     "name": "stdout",
     "output_type": "stream",
     "text": [
      "IoU: 0.6838752642253131\n",
      "/storage/user/huju/transferred/ws_dditnach/Diffusion-SDF/config/ddit_stage2_diff_cond_sofa_train_neighbor/output/49999/test/mesh/Meshes/556166f38429cdfe29bdd38dd4a1a461_scene0001_01_ins_9.ply.ply\n",
      "/storage/user/huju/transferred/ws_dditnach/DATA/ScanARCW/canonical_mesh_manifoldplus/04256520/556166f38429cdfe29bdd38dd4a1a461_scene0001_01_ins_9/model_canonical_manifoldplus.obj\n"
     ]
    },
    {
     "name": "stderr",
     "output_type": "stream",
     "text": [
      "37it [00:36,  1.27s/it]"
     ]
    },
    {
     "name": "stdout",
     "output_type": "stream",
     "text": [
      "IoU: 0.46181110245418727\n",
      "/storage/user/huju/transferred/ws_dditnach/Diffusion-SDF/config/ddit_stage2_diff_cond_sofa_train_neighbor/output/49999/test/mesh/Meshes/fb74336a6192c4787afee304cce81d6f_scene0536_01_ins_3.ply.ply\n",
      "/storage/user/huju/transferred/ws_dditnach/DATA/ScanARCW/canonical_mesh_manifoldplus/04256520/fb74336a6192c4787afee304cce81d6f_scene0536_01_ins_3/model_canonical_manifoldplus.obj\n"
     ]
    },
    {
     "name": "stderr",
     "output_type": "stream",
     "text": [
      "38it [00:37,  1.24s/it]"
     ]
    },
    {
     "name": "stdout",
     "output_type": "stream",
     "text": [
      "IoU: 0.7685121741157821\n",
      "/storage/user/huju/transferred/ws_dditnach/Diffusion-SDF/config/ddit_stage2_diff_cond_sofa_train_neighbor/output/49999/test/mesh/Meshes/58447a958c4af154942bb07caacf4df3_scene0474_03_ins_2.ply.ply\n",
      "/storage/user/huju/transferred/ws_dditnach/DATA/ScanARCW/canonical_mesh_manifoldplus/04256520/58447a958c4af154942bb07caacf4df3_scene0474_03_ins_2/model_canonical_manifoldplus.obj\n"
     ]
    },
    {
     "name": "stderr",
     "output_type": "stream",
     "text": [
      "39it [00:38,  1.01it/s]"
     ]
    },
    {
     "name": "stdout",
     "output_type": "stream",
     "text": [
      "IoU: 0.4397397090474357\n"
     ]
    },
    {
     "name": "stderr",
     "output_type": "stream",
     "text": [
      "\n"
     ]
    }
   ],
   "source": [
    "label = \"sofa\"\n",
    "gt_root = \"/storage/user/huju/transferred/ws_dditnach/DATA/ScanARCW/canonical_mesh_manifoldplus\"\n",
    "gt_root = os.path.join(gt_root,label2id[label])\n",
    "\n",
    "sdf_root = \"/storage/user/huju/transferred/ws_dditnach/DeepSDF/data/SdfSamples/canonical_mesh_manifoldplus\" # 加载相关的transformation\n",
    "\n",
    "# output_root = \"/storage/user/huju/transferred/ws_dditnach/Diffusion-SDF/config/stage2_diff_cond_scanarcw/recon/49999/Meshes\"\n",
    "# output_root = \"/storage/user/huju/transferred/ws_dditnach/Diffusion-SDF/config/ddit_stage2_diff_cond/recon/23999/Meshes\"\n",
    "output_root = \"/storage/user/huju/transferred/ws_dditnach/Diffusion-SDF/config/ddit_stage2_diff_cond_sofa_train_neighbor/output/49999/test/mesh/Meshes\"\n",
    "\n",
    "mesh_list = os.listdir(output_root)\n",
    "ious = []\n",
    "base_names = []\n",
    "\n",
    "for id_mesh, mesh in tqdm(enumerate(mesh_list)):\n",
    "    if id_mesh < 6:\n",
    "        continue\n",
    "\n",
    "    mesh_path1 = os.path.join(output_root,mesh)\n",
    "\n",
    "    base_name = os.path.basename(mesh_path1).split(\".\")[0]\n",
    "    base_names.append(base_name)\n",
    "\n",
    "    mesh_id, scene1, scene2, _,  obj_id = base_name.split(\".\")[0].split(\"_\")\n",
    "    \n",
    "    # pdb.set_trace()\n",
    "    # 加载两个mesh文件\n",
    "    # mesh1 = load_mesh(mesh_path1)\n",
    "    mesh1 = load_mesh(mesh_path1)\n",
    "\n",
    "    # mesh_path2 = os.path.join(gt_root,base_name, \"model_normalized_manifoldplus.obj\")\n",
    "    mesh_path2 = os.path.join(gt_root,base_name,\"model_canonical_manifoldplus.obj\")\n",
    "    mesh2 = load_mesh(mesh_path2)\n",
    "    \n",
    "    sdf_path = os.path.join(sdf_root,label2id[label],base_name+\".npz\")\n",
    "    sdf = np.load(sdf_path)\n",
    "    translation_mesh2sdf = sdf['translation_mesh2sdf']\n",
    "    scale_mesh2sdf = sdf[\"scale_mesh2sdf\"]\n",
    "\n",
    "    mesh1 = mesh_apply_rts(mesh1,mesh_name=\"recon\",mesh_color=\"rgba(22,244,244,0.5)\")\n",
    "    # mesh2 = mesh_apply_rts(mesh2,translation_c2w=translation_mesh2sdf,scale_c2w=scale_mesh2sdf,mesh_name=\"gt\")\n",
    "    mesh2, scale, translation = BoundingCubeNormalization(mesh2)\n",
    "    # mesh2 = mesh_apply_rts(mesh2,mesh_name=\"gt\")\n",
    "\n",
    "    # input()\n",
    "\n",
    "    print(mesh_path1)\n",
    "    print(mesh_path2)\n",
    "\n",
    "    # vis_data = [mesh1,mesh2]\n",
    "\n",
    "    # layout = go.Layout(scene=dict(\n",
    "    #         aspectmode='data',  # Set the aspect ratio to 'cube' for equal scales\n",
    "    #         xaxis_title='X',\n",
    "    #         yaxis_title='Y',\n",
    "    #         zaxis_title='Z',\n",
    "    #     ),)\n",
    "\n",
    "    # fig = go.Figure()\n",
    "    # fig = go.Figure(data=vis_data, layout=layout)\n",
    "    # fig.show()\n",
    "\n",
    "    # 计算IoU\n",
    "    mesh1 = plotly_mesh3d_to_trimesh(mesh1)\n",
    "    mesh2 = plotly_mesh3d_to_trimesh(mesh2)\n",
    "    iou = compute_iou(mesh1, mesh2)\n",
    "    print(f\"IoU: {iou}\")\n",
    "    ious.append(iou)\n",
    "\n",
    "    # input()\n",
    "\n",
    "    continue"
   ]
  },
  {
   "cell_type": "code",
   "execution_count": 9,
   "metadata": {},
   "outputs": [
    {
     "name": "stdout",
     "output_type": "stream",
     "text": [
      "0.46858645722563635\n"
     ]
    }
   ],
   "source": [
    "# ious = np.array(ious)\n",
    "print(ious.mean())"
   ]
  },
  {
   "cell_type": "markdown",
   "metadata": {},
   "source": [
    "## ddit_stage2_diff_cond_sofa_train_noneighbor"
   ]
  },
  {
   "cell_type": "code",
   "execution_count": 10,
   "metadata": {},
   "outputs": [
    {
     "name": "stderr",
     "output_type": "stream",
     "text": [
      "0it [00:00, ?it/s]"
     ]
    },
    {
     "name": "stdout",
     "output_type": "stream",
     "text": [
      "/storage/user/huju/transferred/ws_dditnach/Diffusion-SDF/config/ddit_stage2_diff_cond_sofa_train_noneighbor/output/69999/test/mesh/Meshes/93b421c66ff4529f37b2bb75885cfc44_scene0540_02_ins_3.ply.ply\n",
      "/storage/user/huju/transferred/ws_dditnach/DATA/ScanARCW/canonical_mesh_manifoldplus/04256520/93b421c66ff4529f37b2bb75885cfc44_scene0540_02_ins_3/model_canonical_manifoldplus.obj\n"
     ]
    },
    {
     "name": "stderr",
     "output_type": "stream",
     "text": [
      "7it [00:00,  7.99it/s]"
     ]
    },
    {
     "name": "stdout",
     "output_type": "stream",
     "text": [
      "IoU: 0.9266643291762611\n",
      "/storage/user/huju/transferred/ws_dditnach/Diffusion-SDF/config/ddit_stage2_diff_cond_sofa_train_noneighbor/output/69999/test/mesh/Meshes/377fceb1500e6452d9651cd1d591d64d_scene0651_02_ins_13.ply.ply\n",
      "/storage/user/huju/transferred/ws_dditnach/DATA/ScanARCW/canonical_mesh_manifoldplus/04256520/377fceb1500e6452d9651cd1d591d64d_scene0651_02_ins_13/model_canonical_manifoldplus.obj\n"
     ]
    },
    {
     "name": "stderr",
     "output_type": "stream",
     "text": [
      "8it [00:01,  4.13it/s]"
     ]
    },
    {
     "name": "stdout",
     "output_type": "stream",
     "text": [
      "IoU: 0.7990261307393037\n",
      "/storage/user/huju/transferred/ws_dditnach/Diffusion-SDF/config/ddit_stage2_diff_cond_sofa_train_noneighbor/output/69999/test/mesh/Meshes/61f828a545649e98f1d7342136779c0_scene0177_01_ins_6.ply.ply\n",
      "/storage/user/huju/transferred/ws_dditnach/DATA/ScanARCW/canonical_mesh_manifoldplus/04256520/61f828a545649e98f1d7342136779c0_scene0177_01_ins_6/model_canonical_manifoldplus.obj\n"
     ]
    },
    {
     "name": "stderr",
     "output_type": "stream",
     "text": [
      "9it [00:02,  3.20it/s]"
     ]
    },
    {
     "name": "stdout",
     "output_type": "stream",
     "text": [
      "IoU: 0.5283395953657618\n",
      "/storage/user/huju/transferred/ws_dditnach/Diffusion-SDF/config/ddit_stage2_diff_cond_sofa_train_noneighbor/output/69999/test/mesh/Meshes/3746c2c38faaec395304a08899f58b0b_scene0022_01_ins_5.ply.ply\n",
      "/storage/user/huju/transferred/ws_dditnach/DATA/ScanARCW/canonical_mesh_manifoldplus/04256520/3746c2c38faaec395304a08899f58b0b_scene0022_01_ins_5/model_canonical_manifoldplus.obj\n"
     ]
    },
    {
     "name": "stderr",
     "output_type": "stream",
     "text": [
      "10it [00:03,  2.29it/s]"
     ]
    },
    {
     "name": "stdout",
     "output_type": "stream",
     "text": [
      "IoU: 0.9694060525329361\n",
      "/storage/user/huju/transferred/ws_dditnach/Diffusion-SDF/config/ddit_stage2_diff_cond_sofa_train_noneighbor/output/69999/test/mesh/Meshes/8a9630332c2cb42644ac83b3e97ad658_scene0344_00_ins_4.ply.ply\n",
      "/storage/user/huju/transferred/ws_dditnach/DATA/ScanARCW/canonical_mesh_manifoldplus/04256520/8a9630332c2cb42644ac83b3e97ad658_scene0344_00_ins_4/model_canonical_manifoldplus.obj\n"
     ]
    },
    {
     "name": "stderr",
     "output_type": "stream",
     "text": [
      "11it [00:04,  1.74it/s]"
     ]
    },
    {
     "name": "stdout",
     "output_type": "stream",
     "text": [
      "IoU: 0.1302379017590043\n",
      "/storage/user/huju/transferred/ws_dditnach/Diffusion-SDF/config/ddit_stage2_diff_cond_sofa_train_noneighbor/output/69999/test/mesh/Meshes/a930d381392ff51140b559ef47048b86_scene0181_00_ins_8.ply.ply\n",
      "/storage/user/huju/transferred/ws_dditnach/DATA/ScanARCW/canonical_mesh_manifoldplus/04256520/a930d381392ff51140b559ef47048b86_scene0181_00_ins_8/model_canonical_manifoldplus.obj\n"
     ]
    },
    {
     "name": "stderr",
     "output_type": "stream",
     "text": [
      "12it [00:05,  1.48it/s]"
     ]
    },
    {
     "name": "stdout",
     "output_type": "stream",
     "text": [
      "IoU: 0.5802191609627435\n",
      "/storage/user/huju/transferred/ws_dditnach/Diffusion-SDF/config/ddit_stage2_diff_cond_sofa_train_noneighbor/output/69999/test/mesh/Meshes/a90cf2c399b7052cd4061e538ffc8def_scene0022_00_ins_4.ply.ply\n",
      "/storage/user/huju/transferred/ws_dditnach/DATA/ScanARCW/canonical_mesh_manifoldplus/04256520/a90cf2c399b7052cd4061e538ffc8def_scene0022_00_ins_4/model_canonical_manifoldplus.obj\n"
     ]
    },
    {
     "name": "stderr",
     "output_type": "stream",
     "text": [
      "13it [00:05,  1.47it/s]"
     ]
    },
    {
     "name": "stdout",
     "output_type": "stream",
     "text": [
      "IoU: 0.8004679101663563\n",
      "/storage/user/huju/transferred/ws_dditnach/Diffusion-SDF/config/ddit_stage2_diff_cond_sofa_train_noneighbor/output/69999/test/mesh/Meshes/8a9630332c2cb42644ac83b3e97ad658_scene0344_00_ins_3.ply.ply\n",
      "/storage/user/huju/transferred/ws_dditnach/DATA/ScanARCW/canonical_mesh_manifoldplus/04256520/8a9630332c2cb42644ac83b3e97ad658_scene0344_00_ins_3/model_canonical_manifoldplus.obj\n"
     ]
    },
    {
     "name": "stderr",
     "output_type": "stream",
     "text": [
      "14it [00:06,  1.27it/s]"
     ]
    },
    {
     "name": "stdout",
     "output_type": "stream",
     "text": [
      "IoU: 0.5734521055513246\n",
      "/storage/user/huju/transferred/ws_dditnach/Diffusion-SDF/config/ddit_stage2_diff_cond_sofa_train_noneighbor/output/69999/test/mesh/Meshes/b6049bcbc56eb65e2553cc33364504d5_scene0166_00_ins_2.ply.ply\n",
      "/storage/user/huju/transferred/ws_dditnach/DATA/ScanARCW/canonical_mesh_manifoldplus/04256520/b6049bcbc56eb65e2553cc33364504d5_scene0166_00_ins_2/model_canonical_manifoldplus.obj\n"
     ]
    },
    {
     "name": "stderr",
     "output_type": "stream",
     "text": [
      "15it [00:07,  1.25it/s]"
     ]
    },
    {
     "name": "stdout",
     "output_type": "stream",
     "text": [
      "IoU: 0.8789419572390713\n",
      "/storage/user/huju/transferred/ws_dditnach/Diffusion-SDF/config/ddit_stage2_diff_cond_sofa_train_noneighbor/output/69999/test/mesh/Meshes/23833969c0011b8e98494085d68ad6a0_scene0591_01_ins_11.ply.ply\n",
      "/storage/user/huju/transferred/ws_dditnach/DATA/ScanARCW/canonical_mesh_manifoldplus/04256520/23833969c0011b8e98494085d68ad6a0_scene0591_01_ins_11/model_canonical_manifoldplus.obj\n"
     ]
    },
    {
     "name": "stderr",
     "output_type": "stream",
     "text": [
      "16it [00:08,  1.30it/s]"
     ]
    },
    {
     "name": "stdout",
     "output_type": "stream",
     "text": [
      "IoU: 0.8601646218052792\n",
      "/storage/user/huju/transferred/ws_dditnach/Diffusion-SDF/config/ddit_stage2_diff_cond_sofa_train_noneighbor/output/69999/test/mesh/Meshes/8a9630332c2cb42644ac83b3e97ad658_scene0344_00_ins_2.ply.ply\n",
      "/storage/user/huju/transferred/ws_dditnach/DATA/ScanARCW/canonical_mesh_manifoldplus/04256520/8a9630332c2cb42644ac83b3e97ad658_scene0344_00_ins_2/model_canonical_manifoldplus.obj\n"
     ]
    },
    {
     "name": "stderr",
     "output_type": "stream",
     "text": [
      "17it [00:09,  1.17it/s]"
     ]
    },
    {
     "name": "stdout",
     "output_type": "stream",
     "text": [
      "IoU: 0.19700905238555427\n",
      "/storage/user/huju/transferred/ws_dditnach/Diffusion-SDF/config/ddit_stage2_diff_cond_sofa_train_noneighbor/output/69999/test/mesh/Meshes/7ae657b39aa2be68ccd1bcd57588acf8_scene0517_01_ins_6.ply.ply\n",
      "/storage/user/huju/transferred/ws_dditnach/DATA/ScanARCW/canonical_mesh_manifoldplus/04256520/7ae657b39aa2be68ccd1bcd57588acf8_scene0517_01_ins_6/model_canonical_manifoldplus.obj\n"
     ]
    },
    {
     "name": "stderr",
     "output_type": "stream",
     "text": [
      "18it [00:10,  1.26it/s]"
     ]
    },
    {
     "name": "stdout",
     "output_type": "stream",
     "text": [
      "IoU: 0.9336250401260142\n",
      "/storage/user/huju/transferred/ws_dditnach/Diffusion-SDF/config/ddit_stage2_diff_cond_sofa_train_noneighbor/output/69999/test/mesh/Meshes/bdd7a0eb66e8884dad04591c9486ec0_scene0701_02_ins_4.ply.ply\n",
      "/storage/user/huju/transferred/ws_dditnach/DATA/ScanARCW/canonical_mesh_manifoldplus/04256520/bdd7a0eb66e8884dad04591c9486ec0_scene0701_02_ins_4/model_canonical_manifoldplus.obj\n"
     ]
    },
    {
     "name": "stderr",
     "output_type": "stream",
     "text": [
      "19it [00:10,  1.27it/s]"
     ]
    },
    {
     "name": "stdout",
     "output_type": "stream",
     "text": [
      "IoU: 0.40669911226509764\n",
      "/storage/user/huju/transferred/ws_dditnach/Diffusion-SDF/config/ddit_stage2_diff_cond_sofa_train_noneighbor/output/69999/test/mesh/Meshes/d8c748ced5e5f2cc7e3820d17093b7c2_scene0132_02_ins_8.ply.ply\n",
      "/storage/user/huju/transferred/ws_dditnach/DATA/ScanARCW/canonical_mesh_manifoldplus/04256520/d8c748ced5e5f2cc7e3820d17093b7c2_scene0132_02_ins_8/model_canonical_manifoldplus.obj\n"
     ]
    },
    {
     "name": "stderr",
     "output_type": "stream",
     "text": [
      "20it [00:11,  1.43it/s]"
     ]
    },
    {
     "name": "stdout",
     "output_type": "stream",
     "text": [
      "IoU: 0.6305702321621707\n",
      "/storage/user/huju/transferred/ws_dditnach/Diffusion-SDF/config/ddit_stage2_diff_cond_sofa_train_noneighbor/output/69999/test/mesh/Meshes/1230d31e3a6cbf309cd431573238602d_scene0435_00_ins_13.ply.ply\n",
      "/storage/user/huju/transferred/ws_dditnach/DATA/ScanARCW/canonical_mesh_manifoldplus/04256520/1230d31e3a6cbf309cd431573238602d_scene0435_00_ins_13/model_canonical_manifoldplus.obj\n"
     ]
    },
    {
     "name": "stderr",
     "output_type": "stream",
     "text": [
      "21it [00:12,  1.09it/s]"
     ]
    },
    {
     "name": "stdout",
     "output_type": "stream",
     "text": [
      "IoU: 0.7746216149370533\n",
      "/storage/user/huju/transferred/ws_dditnach/Diffusion-SDF/config/ddit_stage2_diff_cond_sofa_train_noneighbor/output/69999/test/mesh/Meshes/2abe8d5b5d29ff52f7628281ecb18112_scene0165_01_ins_3.ply.ply\n",
      "/storage/user/huju/transferred/ws_dditnach/DATA/ScanARCW/canonical_mesh_manifoldplus/04256520/2abe8d5b5d29ff52f7628281ecb18112_scene0165_01_ins_3/model_canonical_manifoldplus.obj\n"
     ]
    },
    {
     "name": "stderr",
     "output_type": "stream",
     "text": [
      "22it [00:14,  1.00s/it]"
     ]
    },
    {
     "name": "stdout",
     "output_type": "stream",
     "text": [
      "IoU: 0.19284447923361947\n",
      "/storage/user/huju/transferred/ws_dditnach/Diffusion-SDF/config/ddit_stage2_diff_cond_sofa_train_noneighbor/output/69999/test/mesh/Meshes/8659f0f422096e3d26f6c8b5b75f0ee9_scene0288_01_ins_3.ply.ply\n",
      "/storage/user/huju/transferred/ws_dditnach/DATA/ScanARCW/canonical_mesh_manifoldplus/04256520/8659f0f422096e3d26f6c8b5b75f0ee9_scene0288_01_ins_3/model_canonical_manifoldplus.obj\n"
     ]
    },
    {
     "name": "stderr",
     "output_type": "stream",
     "text": [
      "23it [00:14,  1.13it/s]"
     ]
    },
    {
     "name": "stdout",
     "output_type": "stream",
     "text": [
      "IoU: 0.6521307273756377\n",
      "/storage/user/huju/transferred/ws_dditnach/Diffusion-SDF/config/ddit_stage2_diff_cond_sofa_train_noneighbor/output/69999/test/mesh/Meshes/fb74336a6192c4787afee304cce81d6f_scene0087_02_ins_2.ply.ply\n",
      "/storage/user/huju/transferred/ws_dditnach/DATA/ScanARCW/canonical_mesh_manifoldplus/04256520/fb74336a6192c4787afee304cce81d6f_scene0087_02_ins_2/model_canonical_manifoldplus.obj\n"
     ]
    },
    {
     "name": "stderr",
     "output_type": "stream",
     "text": [
      "24it [00:15,  1.24it/s]"
     ]
    },
    {
     "name": "stdout",
     "output_type": "stream",
     "text": [
      "IoU: 0.9154737730216925\n",
      "/storage/user/huju/transferred/ws_dditnach/Diffusion-SDF/config/ddit_stage2_diff_cond_sofa_train_noneighbor/output/69999/test/mesh/Meshes/8a9630332c2cb42644ac83b3e97ad658_scene0344_00_ins_5.ply.ply\n",
      "/storage/user/huju/transferred/ws_dditnach/DATA/ScanARCW/canonical_mesh_manifoldplus/04256520/8a9630332c2cb42644ac83b3e97ad658_scene0344_00_ins_5/model_canonical_manifoldplus.obj\n"
     ]
    },
    {
     "name": "stderr",
     "output_type": "stream",
     "text": [
      "25it [00:16,  1.19it/s]"
     ]
    },
    {
     "name": "stdout",
     "output_type": "stream",
     "text": [
      "IoU: 0.1615997807066599\n",
      "/storage/user/huju/transferred/ws_dditnach/Diffusion-SDF/config/ddit_stage2_diff_cond_sofa_train_noneighbor/output/69999/test/mesh/Meshes/556166f38429cdfe29bdd38dd4a1a461_scene0001_01_ins_11.ply.ply\n",
      "/storage/user/huju/transferred/ws_dditnach/DATA/ScanARCW/canonical_mesh_manifoldplus/04256520/556166f38429cdfe29bdd38dd4a1a461_scene0001_01_ins_11/model_canonical_manifoldplus.obj\n"
     ]
    },
    {
     "name": "stderr",
     "output_type": "stream",
     "text": [
      "26it [00:17,  1.19it/s]"
     ]
    },
    {
     "name": "stdout",
     "output_type": "stream",
     "text": [
      "IoU: 0.753281715717665\n",
      "/storage/user/huju/transferred/ws_dditnach/Diffusion-SDF/config/ddit_stage2_diff_cond_sofa_train_noneighbor/output/69999/test/mesh/Meshes/62e90a6ed511a1b2d291861d5bc3e7c8_scene0701_02_ins_2.ply.ply\n",
      "/storage/user/huju/transferred/ws_dditnach/DATA/ScanARCW/canonical_mesh_manifoldplus/04256520/62e90a6ed511a1b2d291861d5bc3e7c8_scene0701_02_ins_2/model_canonical_manifoldplus.obj\n"
     ]
    },
    {
     "name": "stderr",
     "output_type": "stream",
     "text": [
      "27it [00:17,  1.32it/s]"
     ]
    },
    {
     "name": "stdout",
     "output_type": "stream",
     "text": [
      "IoU: 0.36894839771563054\n",
      "/storage/user/huju/transferred/ws_dditnach/Diffusion-SDF/config/ddit_stage2_diff_cond_sofa_train_noneighbor/output/69999/test/mesh/Meshes/556166f38429cdfe29bdd38dd4a1a461_scene0001_01_ins_10.ply.ply\n",
      "/storage/user/huju/transferred/ws_dditnach/DATA/ScanARCW/canonical_mesh_manifoldplus/04256520/556166f38429cdfe29bdd38dd4a1a461_scene0001_01_ins_10/model_canonical_manifoldplus.obj\n"
     ]
    },
    {
     "name": "stderr",
     "output_type": "stream",
     "text": [
      "28it [00:18,  1.29it/s]"
     ]
    },
    {
     "name": "stdout",
     "output_type": "stream",
     "text": [
      "IoU: 0.9037363778752885\n",
      "/storage/user/huju/transferred/ws_dditnach/Diffusion-SDF/config/ddit_stage2_diff_cond_sofa_train_noneighbor/output/69999/test/mesh/Meshes/d58a2c86b9b71f6bef4e42d70375aed8_scene0301_00_ins_9.ply.ply\n",
      "/storage/user/huju/transferred/ws_dditnach/DATA/ScanARCW/canonical_mesh_manifoldplus/04256520/d58a2c86b9b71f6bef4e42d70375aed8_scene0301_00_ins_9/model_canonical_manifoldplus.obj\n"
     ]
    },
    {
     "name": "stderr",
     "output_type": "stream",
     "text": [
      "29it [00:19,  1.31it/s]"
     ]
    },
    {
     "name": "stdout",
     "output_type": "stream",
     "text": [
      "IoU: 0.2661594616793989\n",
      "/storage/user/huju/transferred/ws_dditnach/Diffusion-SDF/config/ddit_stage2_diff_cond_sofa_train_noneighbor/output/69999/test/mesh/Meshes/354c37c168778a0bd4830313df3656b_scene0587_00_ins_3.ply.ply\n",
      "/storage/user/huju/transferred/ws_dditnach/DATA/ScanARCW/canonical_mesh_manifoldplus/04256520/354c37c168778a0bd4830313df3656b_scene0587_00_ins_3/model_canonical_manifoldplus.obj\n"
     ]
    },
    {
     "name": "stderr",
     "output_type": "stream",
     "text": [
      "30it [00:19,  1.35it/s]"
     ]
    },
    {
     "name": "stdout",
     "output_type": "stream",
     "text": [
      "IoU: 0.4528575588841187\n",
      "/storage/user/huju/transferred/ws_dditnach/Diffusion-SDF/config/ddit_stage2_diff_cond_sofa_train_noneighbor/output/69999/test/mesh/Meshes/8a9630332c2cb42644ac83b3e97ad658_scene0344_00_ins_6.ply.ply\n",
      "/storage/user/huju/transferred/ws_dditnach/DATA/ScanARCW/canonical_mesh_manifoldplus/04256520/8a9630332c2cb42644ac83b3e97ad658_scene0344_00_ins_6/model_canonical_manifoldplus.obj\n"
     ]
    },
    {
     "name": "stderr",
     "output_type": "stream",
     "text": [
      "31it [00:20,  1.21it/s]"
     ]
    },
    {
     "name": "stdout",
     "output_type": "stream",
     "text": [
      "IoU: 0.5844909516738571\n",
      "/storage/user/huju/transferred/ws_dditnach/Diffusion-SDF/config/ddit_stage2_diff_cond_sofa_train_noneighbor/output/69999/test/mesh/Meshes/7ae657b39aa2be68ccd1bcd57588acf8_scene0424_00_ins_6.ply.ply\n",
      "/storage/user/huju/transferred/ws_dditnach/DATA/ScanARCW/canonical_mesh_manifoldplus/04256520/7ae657b39aa2be68ccd1bcd57588acf8_scene0424_00_ins_6/model_canonical_manifoldplus.obj\n"
     ]
    },
    {
     "name": "stderr",
     "output_type": "stream",
     "text": [
      "32it [00:21,  1.28it/s]"
     ]
    },
    {
     "name": "stdout",
     "output_type": "stream",
     "text": [
      "IoU: 0.5447953780750726\n",
      "/storage/user/huju/transferred/ws_dditnach/Diffusion-SDF/config/ddit_stage2_diff_cond_sofa_train_noneighbor/output/69999/test/mesh/Meshes/273e8e15b6740e5932a526e2e9a7e9ae_scene0582_00_ins_10.ply.ply\n",
      "/storage/user/huju/transferred/ws_dditnach/DATA/ScanARCW/canonical_mesh_manifoldplus/04256520/273e8e15b6740e5932a526e2e9a7e9ae_scene0582_00_ins_10/model_canonical_manifoldplus.obj\n"
     ]
    },
    {
     "name": "stderr",
     "output_type": "stream",
     "text": [
      "33it [00:22,  1.25it/s]"
     ]
    },
    {
     "name": "stdout",
     "output_type": "stream",
     "text": [
      "IoU: 0.49323470187906\n",
      "/storage/user/huju/transferred/ws_dditnach/Diffusion-SDF/config/ddit_stage2_diff_cond_sofa_train_noneighbor/output/69999/test/mesh/Meshes/2abe8d5b5d29ff52f7628281ecb18112_scene0165_01_ins_2.ply.ply\n",
      "/storage/user/huju/transferred/ws_dditnach/DATA/ScanARCW/canonical_mesh_manifoldplus/04256520/2abe8d5b5d29ff52f7628281ecb18112_scene0165_01_ins_2/model_canonical_manifoldplus.obj\n"
     ]
    },
    {
     "name": "stderr",
     "output_type": "stream",
     "text": [
      "34it [00:23,  1.01s/it]"
     ]
    },
    {
     "name": "stdout",
     "output_type": "stream",
     "text": [
      "IoU: 0.7664316151477695\n",
      "/storage/user/huju/transferred/ws_dditnach/Diffusion-SDF/config/ddit_stage2_diff_cond_sofa_train_noneighbor/output/69999/test/mesh/Meshes/8ea11732a1198be1dae12f3947d07dec_scene0145_00_ins_2.ply.ply\n",
      "/storage/user/huju/transferred/ws_dditnach/DATA/ScanARCW/canonical_mesh_manifoldplus/04256520/8ea11732a1198be1dae12f3947d07dec_scene0145_00_ins_2/model_canonical_manifoldplus.obj\n"
     ]
    },
    {
     "name": "stderr",
     "output_type": "stream",
     "text": [
      "35it [00:24,  1.06it/s]"
     ]
    },
    {
     "name": "stdout",
     "output_type": "stream",
     "text": [
      "IoU: 0.7621618576120146\n",
      "/storage/user/huju/transferred/ws_dditnach/Diffusion-SDF/config/ddit_stage2_diff_cond_sofa_train_noneighbor/output/69999/test/mesh/Meshes/556166f38429cdfe29bdd38dd4a1a461_scene0001_01_ins_8.ply.ply\n",
      "/storage/user/huju/transferred/ws_dditnach/DATA/ScanARCW/canonical_mesh_manifoldplus/04256520/556166f38429cdfe29bdd38dd4a1a461_scene0001_01_ins_8/model_canonical_manifoldplus.obj\n"
     ]
    },
    {
     "name": "stderr",
     "output_type": "stream",
     "text": [
      "36it [00:25,  1.01it/s]"
     ]
    },
    {
     "name": "stdout",
     "output_type": "stream",
     "text": [
      "IoU: 0.894821968699079\n",
      "/storage/user/huju/transferred/ws_dditnach/Diffusion-SDF/config/ddit_stage2_diff_cond_sofa_train_noneighbor/output/69999/test/mesh/Meshes/556166f38429cdfe29bdd38dd4a1a461_scene0001_01_ins_9.ply.ply\n",
      "/storage/user/huju/transferred/ws_dditnach/DATA/ScanARCW/canonical_mesh_manifoldplus/04256520/556166f38429cdfe29bdd38dd4a1a461_scene0001_01_ins_9/model_canonical_manifoldplus.obj\n"
     ]
    },
    {
     "name": "stderr",
     "output_type": "stream",
     "text": [
      "37it [00:26,  1.09it/s]"
     ]
    },
    {
     "name": "stdout",
     "output_type": "stream",
     "text": [
      "IoU: 0.9056632112793277\n",
      "/storage/user/huju/transferred/ws_dditnach/Diffusion-SDF/config/ddit_stage2_diff_cond_sofa_train_noneighbor/output/69999/test/mesh/Meshes/fb74336a6192c4787afee304cce81d6f_scene0536_01_ins_3.ply.ply\n",
      "/storage/user/huju/transferred/ws_dditnach/DATA/ScanARCW/canonical_mesh_manifoldplus/04256520/fb74336a6192c4787afee304cce81d6f_scene0536_01_ins_3/model_canonical_manifoldplus.obj\n"
     ]
    },
    {
     "name": "stderr",
     "output_type": "stream",
     "text": [
      "38it [00:27,  1.16it/s]"
     ]
    },
    {
     "name": "stdout",
     "output_type": "stream",
     "text": [
      "IoU: 0.7877181898393721\n",
      "/storage/user/huju/transferred/ws_dditnach/Diffusion-SDF/config/ddit_stage2_diff_cond_sofa_train_noneighbor/output/69999/test/mesh/Meshes/58447a958c4af154942bb07caacf4df3_scene0474_03_ins_2.ply.ply\n",
      "/storage/user/huju/transferred/ws_dditnach/DATA/ScanARCW/canonical_mesh_manifoldplus/04256520/58447a958c4af154942bb07caacf4df3_scene0474_03_ins_2/model_canonical_manifoldplus.obj\n"
     ]
    },
    {
     "name": "stderr",
     "output_type": "stream",
     "text": [
      "39it [00:27,  1.40it/s]"
     ]
    },
    {
     "name": "stdout",
     "output_type": "stream",
     "text": [
      "IoU: 0.23507689842641064\n"
     ]
    },
    {
     "name": "stderr",
     "output_type": "stream",
     "text": [
      "\n"
     ]
    }
   ],
   "source": [
    "label = \"sofa\"\n",
    "gt_root = \"/storage/user/huju/transferred/ws_dditnach/DATA/ScanARCW/canonical_mesh_manifoldplus\"\n",
    "gt_root = os.path.join(gt_root,label2id[label])\n",
    "\n",
    "sdf_root = \"/storage/user/huju/transferred/ws_dditnach/DeepSDF/data/SdfSamples/canonical_mesh_manifoldplus\" # 加载相关的transformation\n",
    "\n",
    "# output_root = \"/storage/user/huju/transferred/ws_dditnach/Diffusion-SDF/config/stage2_diff_cond_scanarcw/recon/49999/Meshes\"\n",
    "# output_root = \"/storage/user/huju/transferred/ws_dditnach/Diffusion-SDF/config/ddit_stage2_diff_cond/recon/23999/Meshes\"\n",
    "output_root = \"/storage/user/huju/transferred/ws_dditnach/Diffusion-SDF/config/ddit_stage2_diff_cond_sofa_train_neighbor/output/49999/test/mesh/Meshes\"\n",
    "output_root = \"/storage/user/huju/transferred/ws_dditnach/Diffusion-SDF/config/ddit_stage2_diff_cond_sofa_train_noneighbor/output/69999/test/mesh/Meshes\"\n",
    "\n",
    "mesh_list = os.listdir(output_root)\n",
    "ious = []\n",
    "base_names = []\n",
    "\n",
    "for id_mesh, mesh in tqdm(enumerate(mesh_list)):\n",
    "    if id_mesh < 6:\n",
    "        continue\n",
    "\n",
    "    mesh_path1 = os.path.join(output_root,mesh)\n",
    "\n",
    "    base_name = os.path.basename(mesh_path1).split(\".\")[0]\n",
    "    base_names.append(base_name)\n",
    "\n",
    "    mesh_id, scene1, scene2, _,  obj_id = base_name.split(\".\")[0].split(\"_\")\n",
    "    \n",
    "    # pdb.set_trace()\n",
    "    # 加载两个mesh文件\n",
    "    # mesh1 = load_mesh(mesh_path1)\n",
    "    mesh1 = load_mesh(mesh_path1)\n",
    "\n",
    "    # mesh_path2 = os.path.join(gt_root,base_name, \"model_normalized_manifoldplus.obj\")\n",
    "    mesh_path2 = os.path.join(gt_root,base_name,\"model_canonical_manifoldplus.obj\")\n",
    "    mesh2 = load_mesh(mesh_path2)\n",
    "    \n",
    "    sdf_path = os.path.join(sdf_root,label2id[label],base_name+\".npz\")\n",
    "    sdf = np.load(sdf_path)\n",
    "    translation_mesh2sdf = sdf['translation_mesh2sdf']\n",
    "    scale_mesh2sdf = sdf[\"scale_mesh2sdf\"]\n",
    "\n",
    "    mesh1 = mesh_apply_rts(mesh1,mesh_name=\"recon\",mesh_color=\"rgba(22,244,244,0.5)\")\n",
    "    # mesh2 = mesh_apply_rts(mesh2,translation_c2w=translation_mesh2sdf,scale_c2w=scale_mesh2sdf,mesh_name=\"gt\")\n",
    "    mesh2, scale, translation = BoundingCubeNormalization(mesh2)\n",
    "    # mesh2 = mesh_apply_rts(mesh2,mesh_name=\"gt\")\n",
    "\n",
    "    # input()\n",
    "\n",
    "    print(mesh_path1)\n",
    "    print(mesh_path2)\n",
    "\n",
    "    # vis_data = [mesh1,mesh2]\n",
    "\n",
    "    # layout = go.Layout(scene=dict(\n",
    "    #         aspectmode='data',  # Set the aspect ratio to 'cube' for equal scales\n",
    "    #         xaxis_title='X',\n",
    "    #         yaxis_title='Y',\n",
    "    #         zaxis_title='Z',\n",
    "    #     ),)\n",
    "\n",
    "    # fig = go.Figure()\n",
    "    # fig = go.Figure(data=vis_data, layout=layout)\n",
    "    # fig.show()\n",
    "\n",
    "    # 计算IoU\n",
    "    mesh1 = plotly_mesh3d_to_trimesh(mesh1)\n",
    "    mesh2 = plotly_mesh3d_to_trimesh(mesh2)\n",
    "    iou = compute_iou(mesh1, mesh2)\n",
    "    print(f\"IoU: {iou}\")\n",
    "    ious.append(iou)\n",
    "\n",
    "    # input()\n",
    "\n",
    "    continue"
   ]
  },
  {
   "cell_type": "code",
   "execution_count": 11,
   "metadata": {},
   "outputs": [],
   "source": [
    "ious = np.array(ious)\n",
    "iou_path = output_root.replace(\"/Meshes\",\"/ious.txt\")\n",
    "np.savetxt(iou_path,ious)"
   ]
  },
  {
   "cell_type": "code",
   "execution_count": 12,
   "metadata": {},
   "outputs": [
    {
     "name": "stdout",
     "output_type": "stream",
     "text": [
      "0.6251779352125941\n"
     ]
    }
   ],
   "source": [
    "print(ious.mean())"
   ]
  },
  {
   "cell_type": "code",
   "execution_count": null,
   "metadata": {},
   "outputs": [],
   "source": []
  },
  {
   "cell_type": "markdown",
   "metadata": {},
   "source": []
  }
 ],
 "metadata": {
  "kernelspec": {
   "display_name": "hjp_diffusionsdf",
   "language": "python",
   "name": "python3"
  },
  "language_info": {
   "codemirror_mode": {
    "name": "ipython",
    "version": 3
   },
   "file_extension": ".py",
   "mimetype": "text/x-python",
   "name": "python",
   "nbconvert_exporter": "python",
   "pygments_lexer": "ipython3",
   "version": "3.9.18"
  }
 },
 "nbformat": 4,
 "nbformat_minor": 2
}
