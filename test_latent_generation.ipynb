{
 "cells": [
  {
   "cell_type": "code",
   "execution_count": 1,
   "metadata": {},
   "outputs": [
    {
     "name": "stdout",
     "output_type": "stream",
     "text": [
      "Jupyter environment detected. Enabling Open3D WebVisualizer.\n",
      "[Open3D INFO] WebRTC GUI backend enabled.\n",
      "[Open3D INFO] WebRTCWindowSystem: HTTP handshake server disabled.\n"
     ]
    }
   ],
   "source": [
    "import math\n",
    "import copy\n",
    "import torch\n",
    "from torch import nn, einsum\n",
    "import torch.nn.functional as F\n",
    "from inspect import isfunction\n",
    "from collections import namedtuple\n",
    "from functools import partial\n",
    "\n",
    "from einops import rearrange, reduce\n",
    "from einops.layers.torch import Rearrange\n",
    "\n",
    "#from model.diffusion.model import * \n",
    "from diff_utils.helpers import * \n",
    "\n",
    "import numpy as np\n",
    "import os\n",
    "from statistics import mean\n",
    "from tqdm.auto import tqdm\n",
    "import open3d as o3d\n",
    "\n",
    "from models import CombinedModel\n",
    "\n",
    "import pdb"
   ]
  },
  {
   "cell_type": "code",
   "execution_count": null,
   "metadata": {},
   "outputs": [],
   "source": [
    "sepcs_path = \"/home/wiss/lhao/storage/user/hjp/ws_dditnach/Diffusion-SDF/config/stage2_diff_uncond_debug/specs.json\"\n",
    "diffusion_ckpt_path = \"/home/wiss/lhao/storage/user/hjp/ws_dditnach/Diffusion-SDF/config/stage2_diff_uncond_test/last.ckpt\"\n",
    "num_samples = 10\n",
    "\n",
    "specs = json.load(open(sepcs_path))\n",
    "print(specs[\"Description\"])\n",
    "\n",
    "model = CombinedModel(specs)\n",
    "\n",
    "# model = model.load_from_checkpoint(specs[\"modulation_ckpt_path\"], specs=specs, strict=False)\n",
    "\n",
    "ckpt = torch.load(diffusion_ckpt_path)\n",
    "new_state_dict = {}\n",
    "for k,v in ckpt['state_dict'].items():\n",
    "    new_key = k.replace(\"diffusion_model.\", \"\") # remove \"diffusion_model.\" from keys since directly loading into diffusion model\n",
    "    new_state_dict[new_key] = v\n",
    "model.diffusion_model.load_state_dict(new_state_dict)\n",
    "\n",
    "model = model.cuda().eval()\n",
    "\n",
    "samples = model.diffusion_model.generate_unconditional(10)\n",
    "\n",
    "for lat_vec in samples:\n",
    "    torch.save(\"\")"
   ]
  }
 ],
 "metadata": {
  "kernelspec": {
   "display_name": "hjp_deepsdf",
   "language": "python",
   "name": "python3"
  },
  "language_info": {
   "codemirror_mode": {
    "name": "ipython",
    "version": 3
   },
   "file_extension": ".py",
   "mimetype": "text/x-python",
   "name": "python",
   "nbconvert_exporter": "python",
   "pygments_lexer": "ipython3",
   "version": "3.9.18"
  }
 },
 "nbformat": 4,
 "nbformat_minor": 2
}
